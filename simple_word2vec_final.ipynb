{
 "cells": [
  {
   "cell_type": "markdown",
   "metadata": {},
   "source": [
    "# Simple Word2Vec with Hyperparameter Optimization\n",
    "Clean, minimal implementation focused on finding the best parameters"
   ]
  },
  {
   "cell_type": "code",
   "execution_count": 1,
   "metadata": {},
   "outputs": [
    {
     "name": "stdout",
     "output_type": "stream",
     "text": [
      "✅ Wandb setup complete!\n"
     ]
    }
   ],
   "source": [
    "# Setup wandb directories\n",
    "import os\n",
    "os.environ['WANDB_DIR'] = '/tmp/wandb'\n",
    "os.environ['WANDB_CACHE_DIR'] = '/tmp/wandb_cache'\n",
    "os.environ['WANDB_DATA_DIR'] = '/tmp/wandb_data'\n",
    "os.makedirs('/tmp/wandb', exist_ok=True)\n",
    "os.makedirs('/tmp/wandb_cache', exist_ok=True) \n",
    "os.makedirs('/tmp/wandb_data', exist_ok=True)\n",
    "\n",
    "print(\"✅ Wandb setup complete!\")"
   ]
  },
  {
   "cell_type": "code",
   "execution_count": 2,
   "metadata": {},
   "outputs": [
    {
     "name": "stdout",
     "output_type": "stream",
     "text": [
      "Total words: 17,005,207\n",
      "Vocabulary size: 71,290\n",
      "Training words: 16,718,844\n",
      "Sample words: ['anarchism', 'originated', 'as', 'a', 'term', 'of', 'abuse', 'first', 'used', 'against']\n"
     ]
    }
   ],
   "source": [
    "# Load and process text8 data\n",
    "import collections\n",
    "import numpy as np\n",
    "\n",
    "# Read text8 dataset\n",
    "with open('workspace/data/text8', 'r') as f:\n",
    "    words = f.read().split()\n",
    "\n",
    "print(f\"Total words: {len(words):,}\")\n",
    "\n",
    "# Build vocabulary (words appearing at least 5 times)\n",
    "word_counts = collections.Counter(words)\n",
    "vocabulary = {word: count for word, count in word_counts.items() if count >= 5}\n",
    "word_to_index = {word: i for i, word in enumerate(vocabulary.keys())}\n",
    "index_to_word = {i: word for word, i in word_to_index.items()}\n",
    "\n",
    "print(f\"Vocabulary size: {len(vocabulary):,}\")\n",
    "\n",
    "# Convert to indices (subsample for training speed)\n",
    "indexed_words = [word_to_index[word] for word in words if word in vocabulary]\n",
    "\n",
    "print(f\"Training words: {len(indexed_words):,}\")\n",
    "print(f\"Sample words: {words[:10]}\")"
   ]
  },
  {
   "cell_type": "code",
   "execution_count": 3,
   "metadata": {},
   "outputs": [
    {
     "name": "stdout",
     "output_type": "stream",
     "text": [
      "✅ Model and data functions ready!\n"
     ]
    }
   ],
   "source": [
    "# Simple Word2Vec Model\n",
    "import torch\n",
    "import torch.nn as nn\n",
    "import torch.optim as optim\n",
    "from torch.utils.data import DataLoader, TensorDataset\n",
    "\n",
    "class SimpleWord2Vec(nn.Module):\n",
    "    def __init__(self, vocab_size, embedding_dim):\n",
    "        super().__init__()\n",
    "        self.embeddings = nn.Embedding(vocab_size, embedding_dim)\n",
    "        self.linear = nn.Linear(embedding_dim, vocab_size)\n",
    "        \n",
    "        # Good initialization\n",
    "        nn.init.xavier_uniform_(self.embeddings.weight)\n",
    "        nn.init.xavier_uniform_(self.linear.weight)\n",
    "        nn.init.zeros_(self.linear.bias)\n",
    "    \n",
    "    def forward(self, context):\n",
    "        # Bag of words: average context embeddings\n",
    "        embedded = self.embeddings(context)\n",
    "        hidden = torch.tanh(torch.mean(embedded, dim=1))\n",
    "        output = self.linear(hidden)\n",
    "        return output\n",
    "\n",
    "def create_training_data(indexed_words, window_size, max_examples=None):\n",
    "    contexts = []\n",
    "    targets = []\n",
    "\n",
    "    if max_examples is None:\n",
    "        end_idx = len(indexed_words) - window_size\n",
    "    else:\n",
    "        end_idx = min(len(indexed_words) - window_size, max_examples + window_size)\n",
    "\n",
    "    for i in range(window_size, end_idx):\n",
    "        context = (indexed_words[i - window_size:i] +\n",
    "                   indexed_words[i + 1:i + window_size + 1])\n",
    "        target = indexed_words[i]\n",
    "        contexts.append(context)\n",
    "        targets.append(target)\n",
    "\n",
    "    return torch.tensor(contexts), torch.tensor(targets)\n",
    "\n",
    "\n",
    "print(\"✅ Model and data functions ready!\")"
   ]
  },
  {
   "cell_type": "code",
   "execution_count": 4,
   "metadata": {},
   "outputs": [
    {
     "name": "stdout",
     "output_type": "stream",
     "text": [
      "🎯 Sweep configuration ready!\n",
      "Will test: ['learning_rate', 'batch_size', 'embedding_dim', 'window_size', 'optimizer', 'weight_decay']\n"
     ]
    }
   ],
   "source": [
    "# Hyperparameter Sweep\n",
    "import wandb\n",
    "\n",
    "# Adjusted sweep configuration for large dataset (16.7M words)\n",
    "sweep_config = {\n",
    "    'method': 'bayes',  # Smart parameter search\n",
    "    'metric': {'name': 'best_loss', 'goal': 'minimize'},\n",
    "    'parameters': {\n",
    "        'learning_rate': {\n",
    "            'distribution': 'log_uniform_values',\n",
    "            'min': 0.0005,  # Lower minimum for fine-tuning large dataset\n",
    "            'max': 0.2      # Higher maximum since large dataset can handle it\n",
    "        },\n",
    "        'batch_size': {'values': [128, 256, 512, 1024, 2048]},  # Larger batches for 16.7M words\n",
    "        'embedding_dim': {'values': [50, 100, 200, 300, 512]}, # Larger embeddings supported by more data\n",
    "        'window_size': {'values': [4, 5, 6, 8]},           # Include larger context window\n",
    "        'optimizer': {'values': ['adam', 'sgd', 'adamw']}, # Add AdamW for better regularization\n",
    "        'weight_decay': {\n",
    "            'distribution': 'log_uniform_values', \n",
    "            'min': 1e-6,\n",
    "            'max': 1e-2  # Higher weight decay for larger model/dataset\n",
    "        }\n",
    "    }\n",
    "}\n",
    "\n",
    "def train_model():\n",
    "    \"\"\"Training function for wandb sweep\"\"\"\n",
    "    # Initialize wandb\n",
    "    run = wandb.init()\n",
    "    config = wandb.config\n",
    "    \n",
    "    print(f\"Testing: lr={config.learning_rate:.4f}, batch={config.batch_size}, \"\n",
    "          f\"embed={config.embedding_dim}, window={config.window_size}\")\n",
    "    \n",
    "    # Create training data - use more examples for meaningful results with large dataset\n",
    "    contexts, targets = create_training_data(\n",
    "        indexed_words, \n",
    "        config.window_size,\n",
    "        max_examples=10000  # Increased for large dataset (16.7M words)\n",
    "    )\n",
    "\n",
    "    print(f\"💪 Training with {len(contexts):,} examples (not all available data!)\")\n",
    "    \n",
    "    # Setup training\n",
    "    dataset = TensorDataset(contexts, targets)\n",
    "    dataloader = DataLoader(dataset, batch_size=config.batch_size, shuffle=True)\n",
    "    \n",
    "    device = torch.device(\"cuda\" if torch.cuda.is_available() else \"cpu\")\n",
    "    model = SimpleWord2Vec(len(vocabulary), config.embedding_dim).to(device)\n",
    "    \n",
    "    # Choose optimizer\n",
    "    if config.optimizer == 'adam':\n",
    "        optimizer = optim.Adam(model.parameters(), \n",
    "                              lr=config.learning_rate, \n",
    "                              weight_decay=config.weight_decay)\n",
    "    elif config.optimizer == 'adamw':\n",
    "        optimizer = optim.AdamW(model.parameters(), \n",
    "                               lr=config.learning_rate, \n",
    "                               weight_decay=config.weight_decay)\n",
    "    else:  # sgd\n",
    "        optimizer = optim.SGD(model.parameters(), \n",
    "                             lr=config.learning_rate,\n",
    "                             momentum=0.9, \n",
    "                             weight_decay=config.weight_decay)\n",
    "    \n",
    "    loss_function = nn.CrossEntropyLoss()\n",
    "    \n",
    "    # Training loop (adjusted for larger dataset)\n",
    "    model.train()\n",
    "    best_loss = float('inf')\n",
    "    \n",
    "    for epoch in range(15):  # More epochs for larger dataset\n",
    "        epoch_loss = 0\n",
    "        \n",
    "        for batch_contexts, batch_targets in dataloader:\n",
    "            batch_contexts = batch_contexts.to(device)\n",
    "            batch_targets = batch_targets.to(device)\n",
    "            \n",
    "            optimizer.zero_grad()\n",
    "            outputs = model(batch_contexts)\n",
    "            loss = loss_function(outputs, batch_targets)\n",
    "            loss.backward()\n",
    "            \n",
    "            # Gradient clipping for stability\n",
    "            torch.nn.utils.clip_grad_norm_(model.parameters(), max_norm=1.0)\n",
    "            optimizer.step()\n",
    "            \n",
    "            epoch_loss += loss.item()\n",
    "        \n",
    "        avg_loss = epoch_loss / len(dataloader)\n",
    "        best_loss = min(best_loss, avg_loss)\n",
    "        \n",
    "        # Log metrics\n",
    "        wandb.log({\n",
    "            'epoch': epoch,\n",
    "            'avg_loss': avg_loss,\n",
    "            'best_loss': best_loss\n",
    "        })\n",
    "        \n",
    "        # Early stopping if converging well\n",
    "        if avg_loss < 3.0:\n",
    "            break\n",
    "    \n",
    "    # Final result\n",
    "    wandb.log({'final_best_loss': best_loss})\n",
    "    run.finish()\n",
    "    \n",
    "    return best_loss\n",
    "\n",
    "print(\"🎯 Sweep configuration ready!\")\n",
    "print(f\"Will test: {list(sweep_config['parameters'].keys())}\")"
   ]
  },
  {
   "cell_type": "code",
   "execution_count": null,
   "metadata": {},
   "outputs": [],
   "source": [
    "# Run the hyperparameter sweep\n",
    "print(\"🚀 Starting hyperparameter sweep...\")\n",
    "\n",
    "# Create and run sweep\n",
    "sweep_id = wandb.sweep(sweep_config, project=\"simple-word2vec\")\n",
    "print(f\"📊 Sweep ID: {sweep_id}\")\n",
    "print(f\"🌐 Monitor at: https://wandb.ai/{wandb.api.default_entity}/simple-word2vec/sweeps/{sweep_id}\")\n",
    "\n",
    "# Run 8 experiments\n",
    "wandb.agent(sweep_id, train_model, count=10)\n",
    "\n",
    "print(\"✅ Sweep complete!\")"
   ]
  },
  {
   "cell_type": "code",
   "execution_count": null,
   "metadata": {},
   "outputs": [],
   "source": [
    "# Get the best parameters\n",
    "def get_best_parameters(sweep_id):\n",
    "    \"\"\"Extract best parameters from completed sweep\"\"\"\n",
    "    api = wandb.Api()\n",
    "    sweep = api.sweep(f\"{wandb.api.default_entity}/simple-word2vec/{sweep_id}\")\n",
    "    \n",
    "    # Find best run\n",
    "    best_run = None\n",
    "    best_loss = float('inf')\n",
    "    \n",
    "    print(f\"📊 Analyzing {len(sweep.runs)} runs...\")\n",
    "    \n",
    "    for run in sweep.runs:\n",
    "        if run.state == \"finished\":\n",
    "            loss = run.summary.get('best_loss', float('inf'))\n",
    "            if loss < best_loss:\n",
    "                best_loss = loss\n",
    "                best_run = run\n",
    "    \n",
    "    if best_run:\n",
    "        print(f\"\\n🏆 BEST PARAMETERS (Loss: {best_loss:.4f})\")\n",
    "        print(\"=\" * 50)\n",
    "        \n",
    "        best_config = {}\n",
    "        for key, value in best_run.config.items():\n",
    "            best_config[key] = value\n",
    "            print(f\"{key:15}: {value}\")\n",
    "        \n",
    "        print(\"=\" * 50)\n",
    "        return best_config\n",
    "    else:\n",
    "        print(\"❌ No successful runs found!\")\n",
    "        return None\n",
    "\n",
    "# Get best parameters from your sweep\n",
    "best_config = get_best_parameters(sweep_id)\n",
    "\n",
    "if best_config:\n",
    "    print(\"\\n💡 Copy these parameters for your final training!\")\n",
    "    print(f\"Best config: {best_config}\")"
   ]
  },
  {
   "cell_type": "code",
   "execution_count": 5,
   "metadata": {},
   "outputs": [
    {
     "name": "stdout",
     "output_type": "stream",
     "text": [
      "🎯 Manual configuration set!\n",
      "==================================================\n",
      "optimizer      : adam\n",
      "batch_size     : 512\n",
      "window_size    : 5\n",
      "weight_decay   : 1e-05\n",
      "embedding_dim  : 200\n",
      "learning_rate  : 0.02\n",
      "==================================================\n",
      "\n",
      "💡 You can modify these values above and re-run this cell\n",
      "   to experiment with different parameter combinations.\n"
     ]
    }
   ],
   "source": [
    "# Manual Configuration - Best Parameters\n",
    "# Based on sweep results, you can modify these values as needed\n",
    "\n",
    "best_config = {\n",
    "    'optimizer': 'adam',           # Best performing optimizer\n",
    "    'batch_size': 512,             # Large batch size for stable training\n",
    "    'window_size': 5,               # Context window size\n",
    "    'weight_decay': 1e-5,         # Regularization strength\n",
    "    'embedding_dim': 200,           # Embedding dimensions\n",
    "    'learning_rate': 0.02       # Learning rate\n",
    "}\n",
    "\n",
    "print(\"🎯 Manual configuration set!\")\n",
    "print(\"=\" * 50)\n",
    "for key, value in best_config.items():\n",
    "    print(f\"{key:15}: {value}\")\n",
    "print(\"=\" * 50)\n",
    "print(\"\\n💡 You can modify these values above and re-run this cell\")\n",
    "print(\"   to experiment with different parameter combinations.\")\n"
   ]
  },
  {
   "cell_type": "code",
   "execution_count": 6,
   "metadata": {},
   "outputs": [
    {
     "name": "stdout",
     "output_type": "stream",
     "text": [
      "🚀 Training final model with best parameters...\n"
     ]
    },
    {
     "name": "stderr",
     "output_type": "stream",
     "text": [
      "\u001b[34m\u001b[1mwandb\u001b[0m: Currently logged in as: \u001b[33mjoaopaesteves99\u001b[0m (\u001b[33mjoaopaesteves99-opensc\u001b[0m) to \u001b[32mhttps://api.wandb.ai\u001b[0m. Use \u001b[1m`wandb login --relogin`\u001b[0m to force relogin\n"
     ]
    },
    {
     "data": {
      "text/html": [
       "Tracking run with wandb version 0.20.1"
      ],
      "text/plain": [
       "<IPython.core.display.HTML object>"
      ]
     },
     "metadata": {},
     "output_type": "display_data"
    },
    {
     "data": {
      "text/html": [
       "Run data is saved locally in <code>/tmp/wandb/wandb/run-20250610_221250-s3livkiv</code>"
      ],
      "text/plain": [
       "<IPython.core.display.HTML object>"
      ]
     },
     "metadata": {},
     "output_type": "display_data"
    },
    {
     "data": {
      "text/html": [
       "Syncing run <strong><a href='https://wandb.ai/joaopaesteves99-opensc/simple-word2vec/runs/s3livkiv' target=\"_blank\">final-training</a></strong> to <a href='https://wandb.ai/joaopaesteves99-opensc/simple-word2vec' target=\"_blank\">Weights & Biases</a> (<a href='https://wandb.me/developer-guide' target=\"_blank\">docs</a>)<br>"
      ],
      "text/plain": [
       "<IPython.core.display.HTML object>"
      ]
     },
     "metadata": {},
     "output_type": "display_data"
    },
    {
     "data": {
      "text/html": [
       " View project at <a href='https://wandb.ai/joaopaesteves99-opensc/simple-word2vec' target=\"_blank\">https://wandb.ai/joaopaesteves99-opensc/simple-word2vec</a>"
      ],
      "text/plain": [
       "<IPython.core.display.HTML object>"
      ]
     },
     "metadata": {},
     "output_type": "display_data"
    },
    {
     "data": {
      "text/html": [
       " View run at <a href='https://wandb.ai/joaopaesteves99-opensc/simple-word2vec/runs/s3livkiv' target=\"_blank\">https://wandb.ai/joaopaesteves99-opensc/simple-word2vec/runs/s3livkiv</a>"
      ],
      "text/plain": [
       "<IPython.core.display.HTML object>"
      ]
     },
     "metadata": {},
     "output_type": "display_data"
    },
    {
     "name": "stdout",
     "output_type": "stream",
     "text": [
      "Training with 1,000,000 examples...\n",
      "Epoch  0: Loss = 6.9761\n",
      "Epoch  5: Loss = 6.6347\n",
      "Epoch 10: Loss = 6.6245\n",
      "Epoch 15: Loss = 6.6188\n",
      "\n",
      "🎉 Final model training complete!\n",
      "📈 Final loss: 6.6165\n",
      "📊 Embeddings shape: (71290, 200)\n",
      "\n",
      "🔍 Word similarity test:\n",
      "king: gwr(inf), sizing(inf), hvac(inf)\n",
      "computer: oppressing(inf), ambiente(inf), cantus(inf)\n",
      "big: superpowered(inf), grasped(inf), pickled(inf)\n",
      "good: checkpoints(inf), cauca(inf), cristobal(inf)\n"
     ]
    },
    {
     "name": "stderr",
     "output_type": "stream",
     "text": [
      "/tmp/ipykernel_1519/3386922453.py:119: RuntimeWarning: divide by zero encountered in divide\n",
      "  similarities = np.dot(embeddings, word_embed) / (\n"
     ]
    },
    {
     "data": {
      "image/png": "[encoded data removed]",
      "text/plain": [
       "<Figure size 1000x600 with 1 Axes>"
      ]
     },
     "metadata": {},
     "output_type": "display_data"
    },
    {
     "data": {
      "text/html": [],
      "text/plain": [
       "<IPython.core.display.HTML object>"
      ]
     },
     "metadata": {},
     "output_type": "display_data"
    },
    {
     "data": {
      "text/html": [
       "<br>    <style><br>        .wandb-row {<br>            display: flex;<br>            flex-direction: row;<br>            flex-wrap: wrap;<br>            justify-content: flex-start;<br>            width: 100%;<br>        }<br>        .wandb-col {<br>            display: flex;<br>            flex-direction: column;<br>            flex-basis: 100%;<br>            flex: 1;<br>            padding: 10px;<br>        }<br>    </style><br><div class=\"wandb-row\"><div class=\"wandb-col\"><h3>Run history:</h3><br/><table class=\"wandb\"><tr><td>batch</td><td>▁▁▁▁▁▂▂▂▂▂▃▃▃▃▃▃▃▄▄▄▅▅▅▅▅▅▆▆▆▆▆▆▆▆▇▇▇███</td></tr><tr><td>batch_loss</td><td>▄▂▃▄▄▄▂▄▄▄▃▂▃▆▅▂▁▃▁▂▄▂▁▃▂▃▃▃▄▅▄▅▃▄▅▃▆█▃▅</td></tr><tr><td>epoch</td><td>▁▁▂▂▂▃▃▄▄▄▅▅▅▆▆▇▇▇██</td></tr><tr><td>final_train_loss</td><td>▁</td></tr><tr><td>learning_rate</td><td>▁▁▁▁▁▁▁▁▁▁▁▁▁▁▁▁▁▁▁▁</td></tr><tr><td>total_epochs</td><td>▁</td></tr><tr><td>train_loss</td><td>█▂▂▂▁▁▁▁▁▁▁▁▁▁▁▁▁▁▁▁</td></tr></table><br/></div><div class=\"wandb-col\"><h3>Run summary:</h3><br/><table class=\"wandb\"><tr><td>batch</td><td>39076</td></tr><tr><td>batch_loss</td><td>6.4418</td></tr><tr><td>epoch</td><td>19</td></tr><tr><td>final_train_loss</td><td>6.61654</td></tr><tr><td>learning_rate</td><td>0.02</td></tr><tr><td>total_epochs</td><td>20</td></tr><tr><td>train_loss</td><td>6.61654</td></tr></table><br/></div></div>"
      ],
      "text/plain": [
       "<IPython.core.display.HTML object>"
      ]
     },
     "metadata": {},
     "output_type": "display_data"
    },
    {
     "data": {
      "text/html": [
       " View run <strong style=\"color:#cdcd00\">final-training</strong> at: <a href='https://wandb.ai/joaopaesteves99-opensc/simple-word2vec/runs/s3livkiv' target=\"_blank\">https://wandb.ai/joaopaesteves99-opensc/simple-word2vec/runs/s3livkiv</a><br> View project at: <a href='https://wandb.ai/joaopaesteves99-opensc/simple-word2vec' target=\"_blank\">https://wandb.ai/joaopaesteves99-opensc/simple-word2vec</a><br>Synced 5 W&B file(s), 1 media file(s), 0 artifact file(s) and 0 other file(s)"
      ],
      "text/plain": [
       "<IPython.core.display.HTML object>"
      ]
     },
     "metadata": {},
     "output_type": "display_data"
    },
    {
     "data": {
      "text/html": [
       "Find logs at: <code></code>"
      ],
      "text/plain": [
       "<IPython.core.display.HTML object>"
      ]
     },
     "metadata": {},
     "output_type": "display_data"
    },
    {
     "name": "stdout",
     "output_type": "stream",
     "text": [
      "🌐 View final training at: https://wandb.ai/joaopaesteves99-opensc/simple-word2vec/runs/s3livkiv\n"
     ]
    }
   ],
   "source": [
    "# Final training with best parameters and wandb logging\n",
    "if best_config:\n",
    "    print(\"🚀 Training final model with best parameters...\")\n",
    "    \n",
    "    # Initialize wandb run for final training\n",
    "    final_run = wandb.init(\n",
    "        project=\"simple-word2vec\",\n",
    "        name=\"final-training\",\n",
    "        config=best_config,\n",
    "        tags=[\"final\", \"best-params\"]\n",
    "    )\n",
    "    \n",
    "    # Use manageable amount of data for final model (1M examples - good balance)\n",
    "    final_contexts, final_targets = create_training_data(\n",
    "        indexed_words, \n",
    "        best_config['window_size'],\n",
    "        max_examples=1000000  # 1M examples - much more than sweep but manageable\n",
    "    )\n",
    "    \n",
    "    # Setup final training\n",
    "    final_dataset = TensorDataset(final_contexts, final_targets)\n",
    "    final_dataloader = DataLoader(final_dataset, \n",
    "                                 batch_size=best_config['batch_size'], \n",
    "                                 shuffle=True)\n",
    "    \n",
    "    device = torch.device(\"cuda\" if torch.cuda.is_available() else \"cpu\")\n",
    "    final_model = SimpleWord2Vec(len(vocabulary), best_config['embedding_dim']).to(device)\n",
    "    \n",
    "    # Use best optimizer settings\n",
    "    if best_config['optimizer'] == 'adam':\n",
    "        final_optimizer = optim.Adam(final_model.parameters(), \n",
    "                                   lr=best_config['learning_rate'], \n",
    "                                   weight_decay=best_config['weight_decay'])\n",
    "    elif best_config['optimizer'] == 'adamw':\n",
    "        final_optimizer = optim.AdamW(final_model.parameters(), \n",
    "                                    lr=best_config['learning_rate'], \n",
    "                                    weight_decay=best_config['weight_decay'])\n",
    "    else:  # sgd\n",
    "        final_optimizer = optim.SGD(final_model.parameters(), \n",
    "                                  lr=best_config['learning_rate'],\n",
    "                                  momentum=0.9, \n",
    "                                  weight_decay=best_config['weight_decay'])\n",
    "    \n",
    "    loss_function = nn.CrossEntropyLoss()\n",
    "    \n",
    "    # Train final model (more epochs)\n",
    "    final_model.train()\n",
    "    print(f\"Training with {len(final_contexts):,} examples...\")\n",
    "    \n",
    "    # Track losses for plotting\n",
    "    train_losses = []\n",
    "    \n",
    "    for epoch in range(20):  # More epochs for final model\n",
    "        epoch_loss = 0\n",
    "        batch_count = 0\n",
    "        \n",
    "        for batch_contexts, batch_targets in final_dataloader:\n",
    "            batch_contexts = batch_contexts.to(device)\n",
    "            batch_targets = batch_targets.to(device)\n",
    "            \n",
    "            final_optimizer.zero_grad()\n",
    "            outputs = final_model(batch_contexts)\n",
    "            loss = loss_function(outputs, batch_targets)\n",
    "            loss.backward()\n",
    "            \n",
    "            torch.nn.utils.clip_grad_norm_(final_model.parameters(), max_norm=1.0)\n",
    "            final_optimizer.step()\n",
    "            \n",
    "            epoch_loss += loss.item()\n",
    "            batch_count += 1\n",
    "            \n",
    "            # Log batch loss every 50 batches for detailed tracking\n",
    "            if batch_count % 50 == 0:\n",
    "                wandb.log({\n",
    "                    'batch_loss': loss.item(),\n",
    "                    'batch': epoch * len(final_dataloader) + batch_count\n",
    "                })\n",
    "        \n",
    "        avg_loss = epoch_loss / len(final_dataloader)\n",
    "        train_losses.append(avg_loss)\n",
    "        \n",
    "        # Log epoch metrics to wandb\n",
    "        wandb.log({\n",
    "            'epoch': epoch,\n",
    "            'train_loss': avg_loss,\n",
    "            'learning_rate': final_optimizer.param_groups[0]['lr']\n",
    "        })\n",
    "        \n",
    "        if epoch % 5 == 0:\n",
    "            print(f\"Epoch {epoch:2d}: Loss = {avg_loss:.4f}\")\n",
    "        \n",
    "        if avg_loss < 2.0:\n",
    "            print(f\"🎯 Converged at epoch {epoch}!\")\n",
    "            break\n",
    "    \n",
    "    print(f\"\\n🎉 Final model training complete!\")\n",
    "    print(f\"📈 Final loss: {avg_loss:.4f}\")\n",
    "    \n",
    "    # Log final metrics\n",
    "    wandb.log({\n",
    "        'final_train_loss': avg_loss,\n",
    "        'total_epochs': epoch + 1,\n",
    "        'convergence_epoch': epoch if avg_loss < 2.0 else None\n",
    "    })\n",
    "    \n",
    "    # Save embeddings\n",
    "    embeddings = final_model.embeddings.weight.detach().cpu().numpy()\n",
    "    print(f\"📊 Embeddings shape: {embeddings.shape}\")\n",
    "    \n",
    "    # Quick similarity test\n",
    "    def find_similar_words(word, top_k=5):\n",
    "        if word not in word_to_index:\n",
    "            return f\"'{word}' not in vocabulary\"\n",
    "        \n",
    "        word_idx = word_to_index[word]\n",
    "        word_embed = embeddings[word_idx]\n",
    "        \n",
    "        # Cosine similarity\n",
    "        similarities = np.dot(embeddings, word_embed) / (\n",
    "            np.linalg.norm(embeddings, axis=1) * np.linalg.norm(word_embed)\n",
    "        )\n",
    "        \n",
    "        # Get top similar words\n",
    "        top_indices = np.argsort(similarities)[::-1][1:top_k+1]  # Skip the word itself\n",
    "        \n",
    "        similar_words = [(index_to_word[idx], similarities[idx]) \n",
    "                        for idx in top_indices]\n",
    "        return similar_words\n",
    "    \n",
    "    # Test similarity and log examples\n",
    "    test_words = ['king', 'computer', 'big', 'good']\n",
    "    print(\"\\n🔍 Word similarity test:\")\n",
    "    similarity_results = {}\n",
    "    \n",
    "    for word in test_words:\n",
    "        similar = find_similar_words(word, 3)\n",
    "        if isinstance(similar, str):\n",
    "            print(f\"{word}: {similar}\")\n",
    "            similarity_results[word] = similar\n",
    "        else:\n",
    "            similar_str = ', '.join([f\"{w}({s:.3f})\" for w, s in similar])\n",
    "            print(f\"{word}: {similar_str}\")\n",
    "            similarity_results[word] = similar_str\n",
    "    \n",
    "    # Log similarity results to wandb\n",
    "    wandb.log({\"word_similarities\": similarity_results})\n",
    "    \n",
    "    # Create a simple loss plot\n",
    "    import matplotlib.pyplot as plt\n",
    "    \n",
    "    plt.figure(figsize=(10, 6))\n",
    "    plt.plot(train_losses, 'b-', linewidth=2, label='Training Loss')\n",
    "    plt.title('Final Model Training Loss', fontsize=16)\n",
    "    plt.xlabel('Epoch', fontsize=12)\n",
    "    plt.ylabel('Loss', fontsize=12)\n",
    "    plt.grid(True, alpha=0.3)\n",
    "    plt.legend()\n",
    "    plt.tight_layout()\n",
    "    \n",
    "    # Log the plot to wandb\n",
    "    wandb.log({\"training_loss_plot\": wandb.Image(plt)})\n",
    "    plt.show()\n",
    "    \n",
    "    # Finish the wandb run\n",
    "    final_run.finish()\n",
    "    \n",
    "    print(f\"🌐 View final training at: {final_run.url}\")\n",
    "\n",
    "else:\n",
    "    print(\"❌ No best config found. Run the sweep first!\")"
   ]
  },
  {
   "cell_type": "code",
   "execution_count": null,
   "metadata": {},
   "outputs": [
    {
     "name": "stdout",
     "output_type": "stream",
     "text": [
      "💾 Saving trained Word2Vec model and embeddings...\n",
      "============================================================\n",
      "✅ Saved embeddings: workspace/word2vec_trained_model/word2vec_embeddings.npy\n",
      "   Shape: (71290, 200)\n",
      "✅ Saved vocabulary: workspace/word2vec_trained_model/word2vec_vocab.pkl\n",
      "   Vocabulary size: 71,290 words\n",
      "✅ Saved model state: workspace/word2vec_trained_model/word2vec_model.pth\n",
      "✅ Saved model info: workspace/word2vec_trained_model/model_info.json\n"
     ]
    }
   ],
   "source": [
    "# 💾 SAVE TRAINED MODEL AND EMBEDDINGS FOR FUTURE USE\n",
    "print(\"💾 Saving trained Word2Vec model and embeddings...\")\n",
    "print(\"=\" * 60)\n",
    "\n",
    "import pickle\n",
    "import json\n",
    "from datetime import datetime\n",
    "import os\n",
    "\n",
    "# Create a directory for saved models\n",
    "save_dir = \"workspace/word2vec_trained_model\"\n",
    "os.makedirs(save_dir, exist_ok=True)\n",
    "\n",
    "# 1. Save the embeddings as numpy array\n",
    "embeddings_path = os.path.join(save_dir, \"word2vec_embeddings.npy\")\n",
    "np.save(embeddings_path, embeddings)\n",
    "print(f\"✅ Saved embeddings: {embeddings_path}\")\n",
    "print(f\"   Shape: {embeddings.shape}\")\n",
    "\n",
    "# 2. Save vocabulary mappings\n",
    "vocab_path = os.path.join(save_dir, \"word2vec_vocab.pkl\")\n",
    "vocab_data = {\n",
    "    'word_to_index': word_to_index,\n",
    "    'index_to_word': index_to_word,\n",
    "    'vocabulary': vocabulary,\n",
    "    'vocab_size': len(vocabulary)\n",
    "}\n",
    "\n",
    "with open(vocab_path, 'wb') as f:\n",
    "    pickle.dump(vocab_data, f)\n",
    "print(f\"✅ Saved vocabulary: {vocab_path}\")\n",
    "print(f\"   Vocabulary size: {len(vocabulary):,} words\")\n",
    "\n",
    "# 3. Save the full model state\n",
    "model_path = os.path.join(save_dir, \"word2vec_model.pth\")\n",
    "model_save_data = {\n",
    "    'model_state_dict': final_model.state_dict(),\n",
    "    'model_config': {\n",
    "        'vocab_size': len(vocabulary),\n",
    "        'embedding_dim': best_config['embedding_dim'],\n",
    "        'architecture': 'SimpleWord2Vec_CBOW'\n",
    "    },\n",
    "    'training_config': best_config,\n",
    "    'training_info': {\n",
    "        'final_loss': avg_loss,\n",
    "        'total_epochs': epoch + 1,\n",
    "        'training_examples': len(final_contexts),\n",
    "        'training_date': datetime.now().isoformat()\n",
    "    }\n",
    "}\n",
    "\n",
    "torch.save(model_save_data, model_path)\n",
    "print(f\"✅ Saved model state: {model_path}\")\n",
    "\n",
    "# 4. Save human-readable configuration\n",
    "config_path = os.path.join(save_dir, \"model_info.json\")\n",
    "model_info = {\n",
    "    \"model_name\": \"SimpleWord2Vec_CBOW\",\n",
    "    \"embedding_dimensions\": best_config['embedding_dim'],\n",
    "    \"vocabulary_size\": len(vocabulary),\n",
    "    \"training_examples\": len(final_contexts),\n",
    "    \"final_loss\": float(avg_loss),\n",
    "    \"training_epochs\": epoch + 1,\n",
    "    \"best_hyperparameters\": {\n",
    "        \"learning_rate\": best_config['learning_rate'],\n",
    "        \"batch_size\": best_config['batch_size'],\n",
    "        \"window_size\": best_config['window_size'],\n",
    "        \"optimizer\": best_config['optimizer'],\n",
    "        \"weight_decay\": best_config['weight_decay']\n",
    "    },\n",
    "    \"dataset\": \"text8\",\n",
    "    \"training_date\": datetime.now().isoformat(),\n",
    "    \"usage_instructions\": {\n",
    "        \"load_embeddings\": \"embeddings = np.load('word2vec_embeddings.npy')\",\n",
    "        \"load_vocab\": \"with open('word2vec_vocab.pkl', 'rb') as f: vocab = pickle.load(f)\",\n",
    "        \"load_model\": \"checkpoint = torch.load('word2vec_model.pth')\"\n",
    "    }\n",
    "}\n",
    "\n",
    "with open(config_path, 'w') as f:\n",
    "    json.dump(model_info, f, indent=2)\n",
    "print(f\"✅ Saved model info: {config_path}\")"
   ]
  }
 ],
 "metadata": {
  "kernelspec": {
   "display_name": "Python 3",
   "language": "python",
   "name": "python3"
  },
  "language_info": {
   "codemirror_mode": {
    "name": "ipython",
    "version": 3
   },
   "file_extension": ".py",
   "mimetype": "text/x-python",
   "name": "python",
   "nbconvert_exporter": "python",
   "pygments_lexer": "ipython3",
   "version": "3.10.17"
  }
 },
 "nbformat": 4,
 "nbformat_minor": 2
}
