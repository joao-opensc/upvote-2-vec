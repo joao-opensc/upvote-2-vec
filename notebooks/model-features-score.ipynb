{
 "cells": [
  {
   "cell_type": "code",
   "execution_count": 33,
   "metadata": {},
   "outputs": [
    {
     "name": "stdout",
     "output_type": "stream",
     "text": [
      "Using device: cpu\n",
      "Loading data...\n",
      "Loaded 4,902,536 stories\n"
     ]
    }
   ],
   "source": [
    "import pandas as pd\n",
    "import numpy as np\n",
    "import torch\n",
    "import torch.nn as nn\n",
    "import torch.optim as optim\n",
    "from torch.utils.data import DataLoader, TensorDataset\n",
    "import matplotlib.pyplot as plt\n",
    "from sklearn.model_selection import train_test_split\n",
    "from sklearn.preprocessing import StandardScaler\n",
    "from sklearn.metrics import r2_score, mean_squared_error\n",
    "import matplotlib.pyplot as plt\n",
    "import wandb\n",
    "\n",
    "# Setup device\n",
    "device = torch.device(\"cuda\" if torch.cuda.is_available() else \"cpu\")\n",
    "print(f\"Using device: {device}\")\n",
    "\n",
    "# Load data\n",
    "print(\"Loading data...\")\n",
    "df = pd.read_parquet('../data/hackernews_full_data.parquet')\n",
    "print(f\"Loaded {len(df):,} stories\")\n",
    "\n",
    "# Use a sample for faster processing\n",
    "df_sample = df.sample(n=500000, random_state=42).copy()"
   ]
  },
  {
   "cell_type": "code",
   "execution_count": 35,
   "metadata": {},
   "outputs": [
    {
     "data": {
      "text/html": [
       "<div>\n",
       "<style scoped>\n",
       "    .dataframe tbody tr th:only-of-type {\n",
       "        vertical-align: middle;\n",
       "    }\n",
       "\n",
       "    .dataframe tbody tr th {\n",
       "        vertical-align: top;\n",
       "    }\n",
       "\n",
       "    .dataframe thead th {\n",
       "        text-align: right;\n",
       "    }\n",
       "</style>\n",
       "<table border=\"1\" class=\"dataframe\">\n",
       "  <thead>\n",
       "    <tr style=\"text-align: right;\">\n",
       "      <th></th>\n",
       "      <th>id</th>\n",
       "      <th>by</th>\n",
       "      <th>time</th>\n",
       "      <th>url</th>\n",
       "      <th>score</th>\n",
       "      <th>title</th>\n",
       "      <th>descendants</th>\n",
       "    </tr>\n",
       "  </thead>\n",
       "  <tbody>\n",
       "    <tr>\n",
       "      <th>3942193</th>\n",
       "      <td>2488405</td>\n",
       "      <td>icefox</td>\n",
       "      <td>2011-04-27 05:36:18</td>\n",
       "      <td>http://zrusin.blogspot.com/2011/04/apitrace.html</td>\n",
       "      <td>7</td>\n",
       "      <td>OpenGL and Direct3D crazy GUI debugger via API...</td>\n",
       "      <td>1.0</td>\n",
       "    </tr>\n",
       "    <tr>\n",
       "      <th>3221796</th>\n",
       "      <td>22654492</td>\n",
       "      <td>frereubu</td>\n",
       "      <td>2020-03-22 12:32:51</td>\n",
       "      <td>https://ourworldindata.org/coronavirus</td>\n",
       "      <td>1</td>\n",
       "      <td>Coronavirus Disease (Covid-19) – Statistics an...</td>\n",
       "      <td>0.0</td>\n",
       "    </tr>\n",
       "    <tr>\n",
       "      <th>35269</th>\n",
       "      <td>151269</td>\n",
       "      <td>jasonlbaptiste</td>\n",
       "      <td>2008-03-31 21:17:01</td>\n",
       "      <td>None</td>\n",
       "      <td>1</td>\n",
       "      <td>The April Fools Thread- List of April Fools Jo...</td>\n",
       "      <td>0.0</td>\n",
       "    </tr>\n",
       "    <tr>\n",
       "      <th>2263485</th>\n",
       "      <td>1440203</td>\n",
       "      <td>123icebox</td>\n",
       "      <td>2010-06-17 21:11:46</td>\n",
       "      <td>http://www.primarygames.com/arcade/virtualworl...</td>\n",
       "      <td>1</td>\n",
       "      <td>Arcade: Virtual Worlds - PrimaryGames.com - Fr...</td>\n",
       "      <td>-1.0</td>\n",
       "    </tr>\n",
       "    <tr>\n",
       "      <th>3245845</th>\n",
       "      <td>22832574</td>\n",
       "      <td>onetimemanytime</td>\n",
       "      <td>2020-04-10 14:01:09</td>\n",
       "      <td>https://news.yahoo.com/wuhan-rent-protest-show...</td>\n",
       "      <td>1</td>\n",
       "      <td>Wuhan Rent Protest Shows Unrest Brewing in Chi...</td>\n",
       "      <td>0.0</td>\n",
       "    </tr>\n",
       "  </tbody>\n",
       "</table>\n",
       "</div>"
      ],
      "text/plain": [
       "               id               by                time  \\\n",
       "3942193   2488405           icefox 2011-04-27 05:36:18   \n",
       "3221796  22654492         frereubu 2020-03-22 12:32:51   \n",
       "35269      151269   jasonlbaptiste 2008-03-31 21:17:01   \n",
       "2263485   1440203        123icebox 2010-06-17 21:11:46   \n",
       "3245845  22832574  onetimemanytime 2020-04-10 14:01:09   \n",
       "\n",
       "                                                       url  score  \\\n",
       "3942193   http://zrusin.blogspot.com/2011/04/apitrace.html      7   \n",
       "3221796             https://ourworldindata.org/coronavirus      1   \n",
       "35269                                                 None      1   \n",
       "2263485  http://www.primarygames.com/arcade/virtualworl...      1   \n",
       "3245845  https://news.yahoo.com/wuhan-rent-protest-show...      1   \n",
       "\n",
       "                                                     title  descendants  \n",
       "3942193  OpenGL and Direct3D crazy GUI debugger via API...          1.0  \n",
       "3221796  Coronavirus Disease (Covid-19) – Statistics an...          0.0  \n",
       "35269    The April Fools Thread- List of April Fools Jo...          0.0  \n",
       "2263485  Arcade: Virtual Worlds - PrimaryGames.com - Fr...         -1.0  \n",
       "3245845  Wuhan Rent Protest Shows Unrest Brewing in Chi...          0.0  "
      ]
     },
     "execution_count": 35,
     "metadata": {},
     "output_type": "execute_result"
    }
   ],
   "source": [
    "df_sample.head()"
   ]
  },
  {
   "cell_type": "code",
   "execution_count": 13,
   "metadata": {},
   "outputs": [
    {
     "name": "stdout",
     "output_type": "stream",
     "text": [
      "✅ Wandb setup complete!\n"
     ]
    }
   ],
   "source": [
    "# Setup wandb directories\n",
    "import os\n",
    "os.environ['WANDB_DIR'] = '/tmp/wandb'\n",
    "os.environ['WANDB_CACHE_DIR'] = '/tmp/wandb_cache'\n",
    "os.environ['WANDB_DATA_DIR'] = '/tmp/wandb_data'\n",
    "os.makedirs('/tmp/wandb', exist_ok=True)\n",
    "os.makedirs('/tmp/wandb_cache', exist_ok=True) \n",
    "os.makedirs('/tmp/wandb_data', exist_ok=True)\n",
    "\n",
    "print(\"✅ Wandb setup complete!\")"
   ]
  },
  {
   "cell_type": "code",
   "execution_count": 14,
   "metadata": {},
   "outputs": [
    {
     "name": "stdout",
     "output_type": "stream",
     "text": [
      "3942193   2011-04-27 05:36:18\n",
      "3221796   2020-03-22 12:32:51\n",
      "35269     2008-03-31 21:17:01\n",
      "2263485   2010-06-17 21:11:46\n",
      "3245845   2020-04-10 14:01:09\n",
      "Name: time, dtype: datetime64[ns]\n",
      "datetime64[ns]\n",
      "0 rows could not be converted to datetime.\n",
      "                       time           timestamp\n",
      "3942193 2011-04-27 05:36:18 2011-04-27 05:36:18\n",
      "3221796 2020-03-22 12:32:51 2020-03-22 12:32:51\n",
      "35269   2008-03-31 21:17:01 2008-03-31 21:17:01\n",
      "2263485 2010-06-17 21:11:46 2010-06-17 21:11:46\n",
      "3245845 2020-04-10 14:01:09 2020-04-10 14:01:09\n"
     ]
    }
   ],
   "source": [
    "# Check the type of the 'time' column\n",
    "print(df_sample['time'].head())\n",
    "print(df_sample['time'].dtype)\n",
    "\n",
    "# Convert to datetime if not already\n",
    "df_sample['timestamp'] = pd.to_datetime(df_sample['time'], errors='coerce')\n",
    "\n",
    "# Check for any failed conversions (NaT)\n",
    "print(df_sample['timestamp'].isnull().sum(), \"rows could not be converted to datetime.\")\n",
    "print(df_sample[['time', 'timestamp']].head())"
   ]
  },
  {
   "cell_type": "code",
   "execution_count": null,
   "metadata": {},
   "outputs": [
    {
     "name": "stdout",
     "output_type": "stream",
     "text": [
      "Calculating user and title features...\n",
      "Features calculated.\n",
      "Adding time-based features...\n",
      "Time-based features added.\n",
      "Adding URL-based features...\n",
      "Added one-hot features for top 20 domains.\n"
     ]
    }
   ],
   "source": [
    "print(\"Calculating user and title features...\")\n",
    "\n",
    "# User features are removed as requested to simplify the model.\n",
    "df_featured = df_sample.copy()\n",
    "\n",
    "# Title feature\n",
    "df_featured['word_count'] = df_featured['title'].str.split().str.len()\n",
    "df_featured['word_count'] = df_featured['word_count'].fillna(0)\n",
    "\n",
    "print(\"Features calculated.\")\n",
    "\n",
    "# Apply log1p transformation to the target variable\n",
    "df_featured['score_log'] = np.log1p(df_featured['score'])\n",
    "\n",
    "\n",
    "# --- Time-based features (with cyclical transformation) ---\n",
    "print(\"Adding time-based features...\")\n",
    "df_featured['timestamp'] = pd.to_datetime(df_featured['timestamp'])\n",
    "df_featured['hour_of_day'] = df_featured['timestamp'].dt.hour\n",
    "df_featured['day_of_week'] = df_featured['timestamp'].dt.dayofweek\n",
    "\n",
    "# Cyclical features for time\n",
    "df_featured['hour_sin'] = np.sin(2 * np.pi * df_featured['hour_of_day']/24)\n",
    "df_featured['hour_cos'] = np.cos(2 * np.pi * df_featured['hour_of_day']/24)\n",
    "df_featured['day_sin'] = np.sin(2 * np.pi * df_featured['day_of_week']/7)\n",
    "df_featured['day_cos'] = np.cos(2 * np.pi * df_featured['day_of_week']/7)\n",
    "print(\"Time-based features added.\")\n",
    "\n",
    "# --- NEW: URL (Domain) features ---\n",
    "from urllib.parse import urlparse\n",
    "print(\"Adding URL-based features...\")\n",
    "\n",
    "# Handle missing URLs, assuming they are self-posts\n",
    "df_featured['url'] = df_featured['url'].fillna('self_post')\n",
    "\n",
    "def extract_domain(url):\n",
    "    if url == 'self_post' or url is None:\n",
    "        return 'self_post'\n",
    "    try:\n",
    "        # Remove 'www.' prefix for consistency\n",
    "        domain = urlparse(url).netloc.replace('www.', '')\n",
    "        if domain == '': # handles cases like relative links or javascript:\n",
    "            return 'no_domain'\n",
    "        return domain\n",
    "    except Exception:\n",
    "        return 'parse_error'\n",
    "\n",
    "df_featured['domain'] = df_featured['url'].apply(extract_domain)\n",
    "\n",
    "# Identify top domains to prevent too many one-hot features\n",
    "top_domains = df_featured['domain'].value_counts().nlargest(20).index.tolist()\n",
    "\n",
    "# Create one-hot encoded features for top domains\n",
    "for domain in top_domains:\n",
    "    df_featured[f'domain_{domain}'] = (df_featured['domain'] == domain).astype(int)\n",
    "\n",
    "# Group other domains into a single feature\n",
    "df_featured['domain_other'] = (~df_featured['domain'].isin(top_domains) & (df_featured['domain'] != 'self_post')).astype(int)\n",
    "print(f\"Added one-hot features for top {len(top_domains)} domains.\")"
   ]
  },
  {
   "cell_type": "code",
   "execution_count": 16,
   "metadata": {},
   "outputs": [
    {
     "name": "stdout",
     "output_type": "stream",
     "text": [
      "Data split and scaled. Training samples: 400000\n"
     ]
    }
   ],
   "source": [
    "# Get the list of top domains again to make this cell runnable independently\n",
    "top_domains = df_featured['domain'].value_counts().nlargest(20).index.tolist()\n",
    "domain_features = [f'domain_{domain}' for domain in top_domains] + ['domain_other']\n",
    "\n",
    "features = [\n",
    "    #'user_post_count_pt', \n",
    "    #'user_median_score_pt', \n",
    "    'word_count', \n",
    "    # Using cyclical time features instead of raw hour/day\n",
    "    'hour_sin',\n",
    "    'hour_cos',\n",
    "    'day_sin',\n",
    "    'day_cos'\n",
    "] + domain_features\n",
    "\n",
    "target_log = 'score_log'\n",
    "target_orig = 'score'\n",
    "\n",
    "X = df_featured[features]\n",
    "y_df = df_featured[[target_log, target_orig]]\n",
    "\n",
    "X_train, X_test, y_train_df, y_test_df = train_test_split(\n",
    "    X, y_df, test_size=0.2, random_state=42\n",
    ")\n",
    "\n",
    "y_train_log = y_train_df[target_log].values.reshape(-1, 1)\n",
    "y_test_log = y_test_df[target_log].values.reshape(-1, 1)\n",
    "y_test_orig = y_test_df[target_orig].values\n",
    "\n",
    "scaler = StandardScaler()\n",
    "X_train_scaled = scaler.fit_transform(X_train)\n",
    "X_test_scaled = scaler.transform(X_test)\n",
    "\n",
    "# Convert to PyTorch Tensors\n",
    "X_train_tensor = torch.FloatTensor(X_train_scaled).to(device)\n",
    "y_train_tensor = torch.FloatTensor(y_train_log).to(device)\n",
    "X_test_tensor = torch.FloatTensor(X_test_scaled).to(device)\n",
    "y_test_tensor = torch.FloatTensor(y_test_log).to(device)\n",
    "\n",
    "print(f\"Data split and scaled. Training samples: {len(X_train_scaled)}\")"
   ]
  },
  {
   "cell_type": "code",
   "execution_count": 17,
   "metadata": {},
   "outputs": [
    {
     "name": "stdout",
     "output_type": "stream",
     "text": [
      "🎯 Sweep configuration ready!\n"
     ]
    }
   ],
   "source": [
    "# Hyperparameter Sweep Configuration\n",
    "sweep_config = {\n",
    "    'method': 'bayes',  # Bayesian optimization for smarter search\n",
    "    'metric': {\n",
    "        'name': 'test_r2_score',  # Focus on R² score on the original scale\n",
    "        'goal': 'maximize'   # We want to maximize R²\n",
    "    },\n",
    "    'parameters': {\n",
    "        'learning_rate': {\n",
    "            'distribution': 'log_uniform_values',\n",
    "            'min': 1e-5,\n",
    "            'max': 1e-1\n",
    "        },\n",
    "        'batch_size': {\n",
    "            'values': [256, 512, 1024, 2048]\n",
    "        },\n",
    "        'optimizer': {\n",
    "            'values': ['adam', 'sgd', 'adamw']\n",
    "        },\n",
    "        'layer_1_size': {\n",
    "            'values': [64, 128, 256]\n",
    "        },\n",
    "        'layer_2_size': {\n",
    "            'values': [32, 64, 128]\n",
    "        },\n",
    "        'dropout_rate': {\n",
    "            'distribution': 'uniform',\n",
    "            'min': 0.1,\n",
    "            'max': 0.5\n",
    "        },\n",
    "        'epochs': {\n",
    "            'values': [15, 25, 30]\n",
    "        },\n",
    "        'weight_decay': {\n",
    "            'distribution': 'log_uniform_values',\n",
    "            'min': 1e-6,\n",
    "            'max': 1e-2\n",
    "        }\n",
    "    }\n",
    "}\n",
    "\n",
    "print(\"🎯 Sweep configuration ready!\")"
   ]
  },
  {
   "cell_type": "code",
   "execution_count": 18,
   "metadata": {},
   "outputs": [
    {
     "name": "stdout",
     "output_type": "stream",
     "text": [
      "✅ Parameterized SimplePredictor model ready!\n"
     ]
    }
   ],
   "source": [
    "class SimplePredictor(nn.Module):\n",
    "    def __init__(self, input_dim, layer_1_size=64, layer_2_size=32, dropout_rate=0.2):\n",
    "        super(SimplePredictor, self).__init__()\n",
    "        self.model = nn.Sequential(\n",
    "            nn.Linear(input_dim, layer_1_size),\n",
    "            nn.ReLU(),\n",
    "            nn.Dropout(dropout_rate),\n",
    "            nn.Linear(layer_1_size, layer_2_size),\n",
    "            nn.ReLU(),\n",
    "            nn.Linear(layer_2_size, 1)\n",
    "        )\n",
    "    def forward(self, x):\n",
    "        return self.model(x)\n",
    "\n",
    "print(\"✅ Parameterized SimplePredictor model ready!\")"
   ]
  },
  {
   "cell_type": "code",
   "execution_count": 19,
   "metadata": {},
   "outputs": [
    {
     "name": "stdout",
     "output_type": "stream",
     "text": [
      "✅ Training function for wandb sweep is ready!\n"
     ]
    }
   ],
   "source": [
    "# Training function for wandb\n",
    "def train_model():\n",
    "    \"\"\"Main training function for a single wandb run.\"\"\"\n",
    "    run = wandb.init()\n",
    "    config = wandb.config\n",
    "    \n",
    "    # Dataloader\n",
    "    train_dataset = TensorDataset(X_train_tensor, y_train_tensor)\n",
    "    train_loader = DataLoader(train_dataset, batch_size=config.batch_size, shuffle=True)\n",
    "    \n",
    "    # Model\n",
    "    input_dim = X_train_scaled.shape[1]\n",
    "    model = SimplePredictor(\n",
    "        input_dim,\n",
    "        layer_1_size=config.layer_1_size,\n",
    "        layer_2_size=config.layer_2_size,\n",
    "        dropout_rate=config.dropout_rate\n",
    "    ).to(device)\n",
    "    \n",
    "    # Optimizer\n",
    "    if config.optimizer == 'adam':\n",
    "        optimizer = optim.Adam(model.parameters(), lr=config.learning_rate, weight_decay=config.weight_decay)\n",
    "    elif config.optimizer == 'adamw':\n",
    "        optimizer = optim.AdamW(model.parameters(), lr=config.learning_rate, weight_decay=config.weight_decay)\n",
    "    else: # sgd\n",
    "        optimizer = optim.SGD(model.parameters(), lr=config.learning_rate, momentum=0.9, weight_decay=config.weight_decay)\n",
    "\n",
    "    criterion = nn.MSELoss()\n",
    "    \n",
    "    # Training Loop\n",
    "    best_test_loss = float('inf')\n",
    "    for epoch in range(config.epochs):\n",
    "        model.train()\n",
    "        for batch_X, batch_y in train_loader:\n",
    "            batch_X, batch_y = batch_X.to(device), batch_y.to(device)\n",
    "            optimizer.zero_grad()\n",
    "            outputs = model(batch_X)\n",
    "            loss = criterion(outputs, batch_y)\n",
    "            loss.backward()\n",
    "            optimizer.step()\n",
    "\n",
    "        # Evaluation at end of epoch\n",
    "        model.eval()\n",
    "        with torch.no_grad():\n",
    "            train_outputs = model(X_train_tensor)\n",
    "            train_loss = criterion(train_outputs, y_train_tensor).item()\n",
    "            test_outputs = model(X_test_tensor)\n",
    "            test_loss = criterion(test_outputs, y_test_tensor).item()\n",
    "        \n",
    "        # Log metrics to wandb\n",
    "        wandb.log({\n",
    "            \"epoch\": epoch,\n",
    "            \"train_loss_log\": train_loss,\n",
    "            \"test_loss_log\": test_loss\n",
    "        })\n",
    "        \n",
    "        best_test_loss = min(best_test_loss, test_loss)\n",
    "        \n",
    "    # Final Evaluation (on original scale)\n",
    "    model.eval()\n",
    "    with torch.no_grad():\n",
    "        y_pred_log = model(X_test_tensor).cpu().numpy().flatten()\n",
    "    \n",
    "    y_pred_orig = np.expm1(y_pred_log)\n",
    "    \n",
    "    r2 = r2_score(y_test_orig, y_pred_orig)\n",
    "    rmse = np.sqrt(mean_squared_error(y_test_orig, y_pred_orig))\n",
    "    \n",
    "    \n",
    "    # Log final metrics for the sweep\n",
    "    wandb.log({\n",
    "        \"test_r2_score\": r2,\n",
    "        \"test_rmse\": rmse,\n",
    "        \"best_test_loss_log\": best_test_loss\n",
    "    })\n",
    "    \n",
    "    run.finish()\n",
    "\n",
    "print(\"✅ Training function for wandb sweep is ready!\")"
   ]
  },
  {
   "cell_type": "code",
   "execution_count": 20,
   "metadata": {},
   "outputs": [
    {
     "name": "stdout",
     "output_type": "stream",
     "text": [
      "🚀 Starting hyperparameter sweep...\n",
      "Create sweep with ID: 6piipew8\n",
      "Sweep URL: https://wandb.ai/joaopaesteves99-opensc/hackernews-score-predictor/sweeps/6piipew8\n",
      "📊 Sweep ID: 6piipew8\n",
      "🌐 Monitor at: https://wandb.ai/joaopaesteves99-opensc/hackernews-score-predictor/sweeps/6piipew8\n"
     ]
    },
    {
     "name": "stderr",
     "output_type": "stream",
     "text": [
      "\u001b[34m\u001b[1mwandb\u001b[0m: Agent Starting Run: mxm6jgip with config:\n",
      "\u001b[34m\u001b[1mwandb\u001b[0m: \tbatch_size: 1024\n",
      "\u001b[34m\u001b[1mwandb\u001b[0m: \tdropout_rate: 0.4142549673933094\n",
      "\u001b[34m\u001b[1mwandb\u001b[0m: \tepochs: 30\n",
      "\u001b[34m\u001b[1mwandb\u001b[0m: \tlayer_1_size: 128\n",
      "\u001b[34m\u001b[1mwandb\u001b[0m: \tlayer_2_size: 64\n",
      "\u001b[34m\u001b[1mwandb\u001b[0m: \tlearning_rate: 1.5941249798534578e-05\n",
      "\u001b[34m\u001b[1mwandb\u001b[0m: \toptimizer: adam\n",
      "\u001b[34m\u001b[1mwandb\u001b[0m: \tweight_decay: 0.00135893144618865\n"
     ]
    },
    {
     "data": {
      "text/html": [
       "Tracking run with wandb version 0.20.1"
      ],
      "text/plain": [
       "<IPython.core.display.HTML object>"
      ]
     },
     "metadata": {},
     "output_type": "display_data"
    },
    {
     "data": {
      "text/html": [
       "Run data is saved locally in <code>/tmp/wandb/wandb/run-20250611_172556-mxm6jgip</code>"
      ],
      "text/plain": [
       "<IPython.core.display.HTML object>"
      ]
     },
     "metadata": {},
     "output_type": "display_data"
    },
    {
     "data": {
      "text/html": [
       "Syncing run <strong><a href='https://wandb.ai/joaopaesteves99-opensc/hackernews-score-predictor/runs/mxm6jgip' target=\"_blank\">stellar-sweep-1</a></strong> to <a href='https://wandb.ai/joaopaesteves99-opensc/hackernews-score-predictor' target=\"_blank\">Weights & Biases</a> (<a href='https://wandb.me/developer-guide' target=\"_blank\">docs</a>)<br>Sweep page: <a href='https://wandb.ai/joaopaesteves99-opensc/hackernews-score-predictor/sweeps/6piipew8' target=\"_blank\">https://wandb.ai/joaopaesteves99-opensc/hackernews-score-predictor/sweeps/6piipew8</a>"
      ],
      "text/plain": [
       "<IPython.core.display.HTML object>"
      ]
     },
     "metadata": {},
     "output_type": "display_data"
    },
    {
     "data": {
      "text/html": [
       " View project at <a href='https://wandb.ai/joaopaesteves99-opensc/hackernews-score-predictor' target=\"_blank\">https://wandb.ai/joaopaesteves99-opensc/hackernews-score-predictor</a>"
      ],
      "text/plain": [
       "<IPython.core.display.HTML object>"
      ]
     },
     "metadata": {},
     "output_type": "display_data"
    },
    {
     "data": {
      "text/html": [
       " View sweep at <a href='https://wandb.ai/joaopaesteves99-opensc/hackernews-score-predictor/sweeps/6piipew8' target=\"_blank\">https://wandb.ai/joaopaesteves99-opensc/hackernews-score-predictor/sweeps/6piipew8</a>"
      ],
      "text/plain": [
       "<IPython.core.display.HTML object>"
      ]
     },
     "metadata": {},
     "output_type": "display_data"
    },
    {
     "data": {
      "text/html": [
       " View run at <a href='https://wandb.ai/joaopaesteves99-opensc/hackernews-score-predictor/runs/mxm6jgip' target=\"_blank\">https://wandb.ai/joaopaesteves99-opensc/hackernews-score-predictor/runs/mxm6jgip</a>"
      ],
      "text/plain": [
       "<IPython.core.display.HTML object>"
      ]
     },
     "metadata": {},
     "output_type": "display_data"
    },
    {
     "data": {
      "text/html": [],
      "text/plain": [
       "<IPython.core.display.HTML object>"
      ]
     },
     "metadata": {},
     "output_type": "display_data"
    },
    {
     "data": {
      "text/html": [
       "<br>    <style><br>        .wandb-row {<br>            display: flex;<br>            flex-direction: row;<br>            flex-wrap: wrap;<br>            justify-content: flex-start;<br>            width: 100%;<br>        }<br>        .wandb-col {<br>            display: flex;<br>            flex-direction: column;<br>            flex-basis: 100%;<br>            flex: 1;<br>            padding: 10px;<br>        }<br>    </style><br><div class=\"wandb-row\"><div class=\"wandb-col\"><h3>Run history:</h3><br/><table class=\"wandb\"><tr><td>best_test_loss_log</td><td>▁</td></tr><tr><td>epoch</td><td>▁▁▁▂▂▂▂▃▃▃▃▄▄▄▄▅▅▅▅▆▆▆▆▇▇▇▇███</td></tr><tr><td>test_loss_log</td><td>█▅▃▂▁▁▁▁▁▁▁▁▁▁▁▁▁▁▁▁▁▁▁▁▁▁▁▁▁▁</td></tr><tr><td>test_r2_score</td><td>▁</td></tr><tr><td>test_rmse</td><td>▁</td></tr><tr><td>train_loss_log</td><td>█▅▃▂▁▁▁▁▁▁▁▁▁▁▁▁▁▁▁▁▁▁▁▁▁▁▁▁▁▁</td></tr></table><br/></div><div class=\"wandb-col\"><h3>Run summary:</h3><br/><table class=\"wandb\"><tr><td>best_test_loss_log</td><td>1.25749</td></tr><tr><td>epoch</td><td>29</td></tr><tr><td>test_loss_log</td><td>1.25774</td></tr><tr><td>test_r2_score</td><td>-0.03385</td></tr><tr><td>test_rmse</td><td>61.01618</td></tr><tr><td>train_loss_log</td><td>1.25121</td></tr></table><br/></div></div>"
      ],
      "text/plain": [
       "<IPython.core.display.HTML object>"
      ]
     },
     "metadata": {},
     "output_type": "display_data"
    },
    {
     "data": {
      "text/html": [
       " View run <strong style=\"color:#cdcd00\">stellar-sweep-1</strong> at: <a href='https://wandb.ai/joaopaesteves99-opensc/hackernews-score-predictor/runs/mxm6jgip' target=\"_blank\">https://wandb.ai/joaopaesteves99-opensc/hackernews-score-predictor/runs/mxm6jgip</a><br> View project at: <a href='https://wandb.ai/joaopaesteves99-opensc/hackernews-score-predictor' target=\"_blank\">https://wandb.ai/joaopaesteves99-opensc/hackernews-score-predictor</a><br>Synced 5 W&B file(s), 0 media file(s), 0 artifact file(s) and 0 other file(s)"
      ],
      "text/plain": [
       "<IPython.core.display.HTML object>"
      ]
     },
     "metadata": {},
     "output_type": "display_data"
    },
    {
     "data": {
      "text/html": [
       "Find logs at: <code>/tmp/wandb/wandb/run-20250611_172556-mxm6jgip/logs</code>"
      ],
      "text/plain": [
       "<IPython.core.display.HTML object>"
      ]
     },
     "metadata": {},
     "output_type": "display_data"
    },
    {
     "name": "stderr",
     "output_type": "stream",
     "text": [
      "\u001b[34m\u001b[1mwandb\u001b[0m: Agent Starting Run: qgctqdmr with config:\n",
      "\u001b[34m\u001b[1mwandb\u001b[0m: \tbatch_size: 256\n",
      "\u001b[34m\u001b[1mwandb\u001b[0m: \tdropout_rate: 0.39453894828162606\n",
      "\u001b[34m\u001b[1mwandb\u001b[0m: \tepochs: 30\n",
      "\u001b[34m\u001b[1mwandb\u001b[0m: \tlayer_1_size: 64\n",
      "\u001b[34m\u001b[1mwandb\u001b[0m: \tlayer_2_size: 32\n",
      "\u001b[34m\u001b[1mwandb\u001b[0m: \tlearning_rate: 1.7647228535739167e-05\n",
      "\u001b[34m\u001b[1mwandb\u001b[0m: \toptimizer: adamw\n",
      "\u001b[34m\u001b[1mwandb\u001b[0m: \tweight_decay: 3.335262802442914e-05\n"
     ]
    },
    {
     "data": {
      "text/html": [
       "Tracking run with wandb version 0.20.1"
      ],
      "text/plain": [
       "<IPython.core.display.HTML object>"
      ]
     },
     "metadata": {},
     "output_type": "display_data"
    },
    {
     "data": {
      "text/html": [
       "Run data is saved locally in <code>/tmp/wandb/wandb/run-20250611_172749-qgctqdmr</code>"
      ],
      "text/plain": [
       "<IPython.core.display.HTML object>"
      ]
     },
     "metadata": {},
     "output_type": "display_data"
    },
    {
     "data": {
      "text/html": [
       "Syncing run <strong><a href='https://wandb.ai/joaopaesteves99-opensc/hackernews-score-predictor/runs/qgctqdmr' target=\"_blank\">ruby-sweep-2</a></strong> to <a href='https://wandb.ai/joaopaesteves99-opensc/hackernews-score-predictor' target=\"_blank\">Weights & Biases</a> (<a href='https://wandb.me/developer-guide' target=\"_blank\">docs</a>)<br>Sweep page: <a href='https://wandb.ai/joaopaesteves99-opensc/hackernews-score-predictor/sweeps/6piipew8' target=\"_blank\">https://wandb.ai/joaopaesteves99-opensc/hackernews-score-predictor/sweeps/6piipew8</a>"
      ],
      "text/plain": [
       "<IPython.core.display.HTML object>"
      ]
     },
     "metadata": {},
     "output_type": "display_data"
    },
    {
     "data": {
      "text/html": [
       " View project at <a href='https://wandb.ai/joaopaesteves99-opensc/hackernews-score-predictor' target=\"_blank\">https://wandb.ai/joaopaesteves99-opensc/hackernews-score-predictor</a>"
      ],
      "text/plain": [
       "<IPython.core.display.HTML object>"
      ]
     },
     "metadata": {},
     "output_type": "display_data"
    },
    {
     "data": {
      "text/html": [
       " View sweep at <a href='https://wandb.ai/joaopaesteves99-opensc/hackernews-score-predictor/sweeps/6piipew8' target=\"_blank\">https://wandb.ai/joaopaesteves99-opensc/hackernews-score-predictor/sweeps/6piipew8</a>"
      ],
      "text/plain": [
       "<IPython.core.display.HTML object>"
      ]
     },
     "metadata": {},
     "output_type": "display_data"
    },
    {
     "data": {
      "text/html": [
       " View run at <a href='https://wandb.ai/joaopaesteves99-opensc/hackernews-score-predictor/runs/qgctqdmr' target=\"_blank\">https://wandb.ai/joaopaesteves99-opensc/hackernews-score-predictor/runs/qgctqdmr</a>"
      ],
      "text/plain": [
       "<IPython.core.display.HTML object>"
      ]
     },
     "metadata": {},
     "output_type": "display_data"
    },
    {
     "data": {
      "text/html": [],
      "text/plain": [
       "<IPython.core.display.HTML object>"
      ]
     },
     "metadata": {},
     "output_type": "display_data"
    },
    {
     "data": {
      "text/html": [
       "<br>    <style><br>        .wandb-row {<br>            display: flex;<br>            flex-direction: row;<br>            flex-wrap: wrap;<br>            justify-content: flex-start;<br>            width: 100%;<br>        }<br>        .wandb-col {<br>            display: flex;<br>            flex-direction: column;<br>            flex-basis: 100%;<br>            flex: 1;<br>            padding: 10px;<br>        }<br>    </style><br><div class=\"wandb-row\"><div class=\"wandb-col\"><h3>Run history:</h3><br/><table class=\"wandb\"><tr><td>best_test_loss_log</td><td>▁</td></tr><tr><td>epoch</td><td>▁▁▁▂▂▂▂▃▃▃▃▄▄▄▄▅▅▅▅▆▆▆▆▇▇▇▇███</td></tr><tr><td>test_loss_log</td><td>█▂▁▁▁▁▁▁▁▁▁▁▁▁▁▁▁▁▁▁▁▁▁▁▁▁▁▁▁▁</td></tr><tr><td>test_r2_score</td><td>▁</td></tr><tr><td>test_rmse</td><td>▁</td></tr><tr><td>train_loss_log</td><td>█▂▁▁▁▁▁▁▁▁▁▁▁▁▁▁▁▁▁▁▁▁▁▁▁▁▁▁▁▁</td></tr></table><br/></div><div class=\"wandb-col\"><h3>Run summary:</h3><br/><table class=\"wandb\"><tr><td>best_test_loss_log</td><td>1.25698</td></tr><tr><td>epoch</td><td>29</td></tr><tr><td>test_loss_log</td><td>1.25711</td></tr><tr><td>test_r2_score</td><td>-0.03371</td></tr><tr><td>test_rmse</td><td>61.01185</td></tr><tr><td>train_loss_log</td><td>1.25086</td></tr></table><br/></div></div>"
      ],
      "text/plain": [
       "<IPython.core.display.HTML object>"
      ]
     },
     "metadata": {},
     "output_type": "display_data"
    },
    {
     "data": {
      "text/html": [
       " View run <strong style=\"color:#cdcd00\">ruby-sweep-2</strong> at: <a href='https://wandb.ai/joaopaesteves99-opensc/hackernews-score-predictor/runs/qgctqdmr' target=\"_blank\">https://wandb.ai/joaopaesteves99-opensc/hackernews-score-predictor/runs/qgctqdmr</a><br> View project at: <a href='https://wandb.ai/joaopaesteves99-opensc/hackernews-score-predictor' target=\"_blank\">https://wandb.ai/joaopaesteves99-opensc/hackernews-score-predictor</a><br>Synced 5 W&B file(s), 0 media file(s), 0 artifact file(s) and 0 other file(s)"
      ],
      "text/plain": [
       "<IPython.core.display.HTML object>"
      ]
     },
     "metadata": {},
     "output_type": "display_data"
    },
    {
     "data": {
      "text/html": [
       "Find logs at: <code>/tmp/wandb/wandb/run-20250611_172749-qgctqdmr/logs</code>"
      ],
      "text/plain": [
       "<IPython.core.display.HTML object>"
      ]
     },
     "metadata": {},
     "output_type": "display_data"
    },
    {
     "name": "stderr",
     "output_type": "stream",
     "text": [
      "\u001b[34m\u001b[1mwandb\u001b[0m: Agent Starting Run: z8r0xumr with config:\n",
      "\u001b[34m\u001b[1mwandb\u001b[0m: \tbatch_size: 1024\n",
      "\u001b[34m\u001b[1mwandb\u001b[0m: \tdropout_rate: 0.2611039257792485\n",
      "\u001b[34m\u001b[1mwandb\u001b[0m: \tepochs: 25\n",
      "\u001b[34m\u001b[1mwandb\u001b[0m: \tlayer_1_size: 256\n",
      "\u001b[34m\u001b[1mwandb\u001b[0m: \tlayer_2_size: 32\n",
      "\u001b[34m\u001b[1mwandb\u001b[0m: \tlearning_rate: 0.001170585916801457\n",
      "\u001b[34m\u001b[1mwandb\u001b[0m: \toptimizer: adamw\n",
      "\u001b[34m\u001b[1mwandb\u001b[0m: \tweight_decay: 3.329372020121797e-06\n"
     ]
    },
    {
     "data": {
      "text/html": [
       "Tracking run with wandb version 0.20.1"
      ],
      "text/plain": [
       "<IPython.core.display.HTML object>"
      ]
     },
     "metadata": {},
     "output_type": "display_data"
    },
    {
     "data": {
      "text/html": [
       "Run data is saved locally in <code>/tmp/wandb/wandb/run-20250611_172958-z8r0xumr</code>"
      ],
      "text/plain": [
       "<IPython.core.display.HTML object>"
      ]
     },
     "metadata": {},
     "output_type": "display_data"
    },
    {
     "data": {
      "text/html": [
       "Syncing run <strong><a href='https://wandb.ai/joaopaesteves99-opensc/hackernews-score-predictor/runs/z8r0xumr' target=\"_blank\">deft-sweep-3</a></strong> to <a href='https://wandb.ai/joaopaesteves99-opensc/hackernews-score-predictor' target=\"_blank\">Weights & Biases</a> (<a href='https://wandb.me/developer-guide' target=\"_blank\">docs</a>)<br>Sweep page: <a href='https://wandb.ai/joaopaesteves99-opensc/hackernews-score-predictor/sweeps/6piipew8' target=\"_blank\">https://wandb.ai/joaopaesteves99-opensc/hackernews-score-predictor/sweeps/6piipew8</a>"
      ],
      "text/plain": [
       "<IPython.core.display.HTML object>"
      ]
     },
     "metadata": {},
     "output_type": "display_data"
    },
    {
     "data": {
      "text/html": [
       " View project at <a href='https://wandb.ai/joaopaesteves99-opensc/hackernews-score-predictor' target=\"_blank\">https://wandb.ai/joaopaesteves99-opensc/hackernews-score-predictor</a>"
      ],
      "text/plain": [
       "<IPython.core.display.HTML object>"
      ]
     },
     "metadata": {},
     "output_type": "display_data"
    },
    {
     "data": {
      "text/html": [
       " View sweep at <a href='https://wandb.ai/joaopaesteves99-opensc/hackernews-score-predictor/sweeps/6piipew8' target=\"_blank\">https://wandb.ai/joaopaesteves99-opensc/hackernews-score-predictor/sweeps/6piipew8</a>"
      ],
      "text/plain": [
       "<IPython.core.display.HTML object>"
      ]
     },
     "metadata": {},
     "output_type": "display_data"
    },
    {
     "data": {
      "text/html": [
       " View run at <a href='https://wandb.ai/joaopaesteves99-opensc/hackernews-score-predictor/runs/z8r0xumr' target=\"_blank\">https://wandb.ai/joaopaesteves99-opensc/hackernews-score-predictor/runs/z8r0xumr</a>"
      ],
      "text/plain": [
       "<IPython.core.display.HTML object>"
      ]
     },
     "metadata": {},
     "output_type": "display_data"
    },
    {
     "name": "stderr",
     "output_type": "stream",
     "text": [
      "\u001b[34m\u001b[1mwandb\u001b[0m: Network error (ConnectionError), entering retry loop.\n"
     ]
    },
    {
     "data": {
      "text/html": [],
      "text/plain": [
       "<IPython.core.display.HTML object>"
      ]
     },
     "metadata": {},
     "output_type": "display_data"
    },
    {
     "data": {
      "text/html": [
       "<br>    <style><br>        .wandb-row {<br>            display: flex;<br>            flex-direction: row;<br>            flex-wrap: wrap;<br>            justify-content: flex-start;<br>            width: 100%;<br>        }<br>        .wandb-col {<br>            display: flex;<br>            flex-direction: column;<br>            flex-basis: 100%;<br>            flex: 1;<br>            padding: 10px;<br>        }<br>    </style><br><div class=\"wandb-row\"><div class=\"wandb-col\"><h3>Run history:</h3><br/><table class=\"wandb\"><tr><td>best_test_loss_log</td><td>▁</td></tr><tr><td>epoch</td><td>▁▁▂▂▂▂▃▃▃▄▄▄▅▅▅▅▆▆▆▇▇▇▇██</td></tr><tr><td>test_loss_log</td><td>█▃▃▂▂▂▁▇▂▂▁▁▄▁▁▁▂▂▁▂▁▂▁▂▁</td></tr><tr><td>test_r2_score</td><td>▁</td></tr><tr><td>test_rmse</td><td>▁</td></tr><tr><td>train_loss_log</td><td>█▃▃▂▂▂▂█▂▂▂▂▅▁▁▁▂▂▁▁▁▂▁▁▁</td></tr></table><br/></div><div class=\"wandb-col\"><h3>Run summary:</h3><br/><table class=\"wandb\"><tr><td>best_test_loss_log</td><td>1.25412</td></tr><tr><td>epoch</td><td>24</td></tr><tr><td>test_loss_log</td><td>1.25468</td></tr><tr><td>test_r2_score</td><td>-0.03246</td></tr><tr><td>test_rmse</td><td>60.97497</td></tr><tr><td>train_loss_log</td><td>1.24747</td></tr></table><br/></div></div>"
      ],
      "text/plain": [
       "<IPython.core.display.HTML object>"
      ]
     },
     "metadata": {},
     "output_type": "display_data"
    },
    {
     "data": {
      "text/html": [
       " View run <strong style=\"color:#cdcd00\">deft-sweep-3</strong> at: <a href='https://wandb.ai/joaopaesteves99-opensc/hackernews-score-predictor/runs/z8r0xumr' target=\"_blank\">https://wandb.ai/joaopaesteves99-opensc/hackernews-score-predictor/runs/z8r0xumr</a><br> View project at: <a href='https://wandb.ai/joaopaesteves99-opensc/hackernews-score-predictor' target=\"_blank\">https://wandb.ai/joaopaesteves99-opensc/hackernews-score-predictor</a><br>Synced 5 W&B file(s), 0 media file(s), 0 artifact file(s) and 0 other file(s)"
      ],
      "text/plain": [
       "<IPython.core.display.HTML object>"
      ]
     },
     "metadata": {},
     "output_type": "display_data"
    },
    {
     "data": {
      "text/html": [
       "Find logs at: <code>/tmp/wandb/wandb/run-20250611_172958-z8r0xumr/logs</code>"
      ],
      "text/plain": [
       "<IPython.core.display.HTML object>"
      ]
     },
     "metadata": {},
     "output_type": "display_data"
    },
    {
     "name": "stderr",
     "output_type": "stream",
     "text": [
      "\u001b[34m\u001b[1mwandb\u001b[0m: Agent Starting Run: okx5vcvj with config:\n",
      "\u001b[34m\u001b[1mwandb\u001b[0m: \tbatch_size: 2048\n",
      "\u001b[34m\u001b[1mwandb\u001b[0m: \tdropout_rate: 0.41389268093273246\n",
      "\u001b[34m\u001b[1mwandb\u001b[0m: \tepochs: 30\n",
      "\u001b[34m\u001b[1mwandb\u001b[0m: \tlayer_1_size: 64\n",
      "\u001b[34m\u001b[1mwandb\u001b[0m: \tlayer_2_size: 128\n",
      "\u001b[34m\u001b[1mwandb\u001b[0m: \tlearning_rate: 0.006574988584707695\n",
      "\u001b[34m\u001b[1mwandb\u001b[0m: \toptimizer: sgd\n",
      "\u001b[34m\u001b[1mwandb\u001b[0m: \tweight_decay: 1.997385077330383e-05\n"
     ]
    },
    {
     "data": {
      "text/html": [
       "Tracking run with wandb version 0.20.1"
      ],
      "text/plain": [
       "<IPython.core.display.HTML object>"
      ]
     },
     "metadata": {},
     "output_type": "display_data"
    },
    {
     "data": {
      "text/html": [
       "Run data is saved locally in <code>/tmp/wandb/wandb/run-20250611_175945-okx5vcvj</code>"
      ],
      "text/plain": [
       "<IPython.core.display.HTML object>"
      ]
     },
     "metadata": {},
     "output_type": "display_data"
    },
    {
     "data": {
      "text/html": [
       "Syncing run <strong><a href='https://wandb.ai/joaopaesteves99-opensc/hackernews-score-predictor/runs/okx5vcvj' target=\"_blank\">jolly-sweep-4</a></strong> to <a href='https://wandb.ai/joaopaesteves99-opensc/hackernews-score-predictor' target=\"_blank\">Weights & Biases</a> (<a href='https://wandb.me/developer-guide' target=\"_blank\">docs</a>)<br>Sweep page: <a href='https://wandb.ai/joaopaesteves99-opensc/hackernews-score-predictor/sweeps/6piipew8' target=\"_blank\">https://wandb.ai/joaopaesteves99-opensc/hackernews-score-predictor/sweeps/6piipew8</a>"
      ],
      "text/plain": [
       "<IPython.core.display.HTML object>"
      ]
     },
     "metadata": {},
     "output_type": "display_data"
    },
    {
     "data": {
      "text/html": [
       " View project at <a href='https://wandb.ai/joaopaesteves99-opensc/hackernews-score-predictor' target=\"_blank\">https://wandb.ai/joaopaesteves99-opensc/hackernews-score-predictor</a>"
      ],
      "text/plain": [
       "<IPython.core.display.HTML object>"
      ]
     },
     "metadata": {},
     "output_type": "display_data"
    },
    {
     "data": {
      "text/html": [
       " View sweep at <a href='https://wandb.ai/joaopaesteves99-opensc/hackernews-score-predictor/sweeps/6piipew8' target=\"_blank\">https://wandb.ai/joaopaesteves99-opensc/hackernews-score-predictor/sweeps/6piipew8</a>"
      ],
      "text/plain": [
       "<IPython.core.display.HTML object>"
      ]
     },
     "metadata": {},
     "output_type": "display_data"
    },
    {
     "data": {
      "text/html": [
       " View run at <a href='https://wandb.ai/joaopaesteves99-opensc/hackernews-score-predictor/runs/okx5vcvj' target=\"_blank\">https://wandb.ai/joaopaesteves99-opensc/hackernews-score-predictor/runs/okx5vcvj</a>"
      ],
      "text/plain": [
       "<IPython.core.display.HTML object>"
      ]
     },
     "metadata": {},
     "output_type": "display_data"
    },
    {
     "data": {
      "text/html": [],
      "text/plain": [
       "<IPython.core.display.HTML object>"
      ]
     },
     "metadata": {},
     "output_type": "display_data"
    },
    {
     "data": {
      "text/html": [
       "<br>    <style><br>        .wandb-row {<br>            display: flex;<br>            flex-direction: row;<br>            flex-wrap: wrap;<br>            justify-content: flex-start;<br>            width: 100%;<br>        }<br>        .wandb-col {<br>            display: flex;<br>            flex-direction: column;<br>            flex-basis: 100%;<br>            flex: 1;<br>            padding: 10px;<br>        }<br>    </style><br><div class=\"wandb-row\"><div class=\"wandb-col\"><h3>Run history:</h3><br/><table class=\"wandb\"><tr><td>best_test_loss_log</td><td>▁</td></tr><tr><td>epoch</td><td>▁▁▁▂▂▂▂▃▃▃▃▄▄▄▄▅▅▅▅▆▆▆▆▇▇▇▇███</td></tr><tr><td>test_loss_log</td><td>▆▅▆▅▃█▄▄▃▅▁▅▃▃▄▃▄▃▂▃▃▃▄▂▂▂▃▄▄▂</td></tr><tr><td>test_r2_score</td><td>▁</td></tr><tr><td>test_rmse</td><td>▁</td></tr><tr><td>train_loss_log</td><td>▆▅▆▅▃█▄▄▃▅▁▅▃▃▃▂▄▃▂▃▃▂▄▁▂▁▃▃▃▁</td></tr></table><br/></div><div class=\"wandb-col\"><h3>Run summary:</h3><br/><table class=\"wandb\"><tr><td>best_test_loss_log</td><td>1.25731</td></tr><tr><td>epoch</td><td>29</td></tr><tr><td>test_loss_log</td><td>1.25787</td></tr><tr><td>test_r2_score</td><td>-0.03416</td></tr><tr><td>test_rmse</td><td>61.02532</td></tr><tr><td>train_loss_log</td><td>1.251</td></tr></table><br/></div></div>"
      ],
      "text/plain": [
       "<IPython.core.display.HTML object>"
      ]
     },
     "metadata": {},
     "output_type": "display_data"
    },
    {
     "data": {
      "text/html": [
       " View run <strong style=\"color:#cdcd00\">jolly-sweep-4</strong> at: <a href='https://wandb.ai/joaopaesteves99-opensc/hackernews-score-predictor/runs/okx5vcvj' target=\"_blank\">https://wandb.ai/joaopaesteves99-opensc/hackernews-score-predictor/runs/okx5vcvj</a><br> View project at: <a href='https://wandb.ai/joaopaesteves99-opensc/hackernews-score-predictor' target=\"_blank\">https://wandb.ai/joaopaesteves99-opensc/hackernews-score-predictor</a><br>Synced 5 W&B file(s), 0 media file(s), 0 artifact file(s) and 0 other file(s)"
      ],
      "text/plain": [
       "<IPython.core.display.HTML object>"
      ]
     },
     "metadata": {},
     "output_type": "display_data"
    },
    {
     "data": {
      "text/html": [
       "Find logs at: <code>/tmp/wandb/wandb/run-20250611_175945-okx5vcvj/logs</code>"
      ],
      "text/plain": [
       "<IPython.core.display.HTML object>"
      ]
     },
     "metadata": {},
     "output_type": "display_data"
    },
    {
     "name": "stderr",
     "output_type": "stream",
     "text": [
      "\u001b[34m\u001b[1mwandb\u001b[0m: Agent Starting Run: sx0jfggl with config:\n",
      "\u001b[34m\u001b[1mwandb\u001b[0m: \tbatch_size: 2048\n",
      "\u001b[34m\u001b[1mwandb\u001b[0m: \tdropout_rate: 0.15019204856209056\n",
      "\u001b[34m\u001b[1mwandb\u001b[0m: \tepochs: 25\n",
      "\u001b[34m\u001b[1mwandb\u001b[0m: \tlayer_1_size: 256\n",
      "\u001b[34m\u001b[1mwandb\u001b[0m: \tlayer_2_size: 32\n",
      "\u001b[34m\u001b[1mwandb\u001b[0m: \tlearning_rate: 0.002468147027365075\n",
      "\u001b[34m\u001b[1mwandb\u001b[0m: \toptimizer: sgd\n",
      "\u001b[34m\u001b[1mwandb\u001b[0m: \tweight_decay: 2.309411687356101e-06\n"
     ]
    },
    {
     "data": {
      "text/html": [
       "Tracking run with wandb version 0.20.1"
      ],
      "text/plain": [
       "<IPython.core.display.HTML object>"
      ]
     },
     "metadata": {},
     "output_type": "display_data"
    },
    {
     "data": {
      "text/html": [
       "Run data is saved locally in <code>/tmp/wandb/wandb/run-20250611_180140-sx0jfggl</code>"
      ],
      "text/plain": [
       "<IPython.core.display.HTML object>"
      ]
     },
     "metadata": {},
     "output_type": "display_data"
    },
    {
     "data": {
      "text/html": [
       "Syncing run <strong><a href='https://wandb.ai/joaopaesteves99-opensc/hackernews-score-predictor/runs/sx0jfggl' target=\"_blank\">flowing-sweep-5</a></strong> to <a href='https://wandb.ai/joaopaesteves99-opensc/hackernews-score-predictor' target=\"_blank\">Weights & Biases</a> (<a href='https://wandb.me/developer-guide' target=\"_blank\">docs</a>)<br>Sweep page: <a href='https://wandb.ai/joaopaesteves99-opensc/hackernews-score-predictor/sweeps/6piipew8' target=\"_blank\">https://wandb.ai/joaopaesteves99-opensc/hackernews-score-predictor/sweeps/6piipew8</a>"
      ],
      "text/plain": [
       "<IPython.core.display.HTML object>"
      ]
     },
     "metadata": {},
     "output_type": "display_data"
    },
    {
     "data": {
      "text/html": [
       " View project at <a href='https://wandb.ai/joaopaesteves99-opensc/hackernews-score-predictor' target=\"_blank\">https://wandb.ai/joaopaesteves99-opensc/hackernews-score-predictor</a>"
      ],
      "text/plain": [
       "<IPython.core.display.HTML object>"
      ]
     },
     "metadata": {},
     "output_type": "display_data"
    },
    {
     "data": {
      "text/html": [
       " View sweep at <a href='https://wandb.ai/joaopaesteves99-opensc/hackernews-score-predictor/sweeps/6piipew8' target=\"_blank\">https://wandb.ai/joaopaesteves99-opensc/hackernews-score-predictor/sweeps/6piipew8</a>"
      ],
      "text/plain": [
       "<IPython.core.display.HTML object>"
      ]
     },
     "metadata": {},
     "output_type": "display_data"
    },
    {
     "data": {
      "text/html": [
       " View run at <a href='https://wandb.ai/joaopaesteves99-opensc/hackernews-score-predictor/runs/sx0jfggl' target=\"_blank\">https://wandb.ai/joaopaesteves99-opensc/hackernews-score-predictor/runs/sx0jfggl</a>"
      ],
      "text/plain": [
       "<IPython.core.display.HTML object>"
      ]
     },
     "metadata": {},
     "output_type": "display_data"
    },
    {
     "data": {
      "text/html": [],
      "text/plain": [
       "<IPython.core.display.HTML object>"
      ]
     },
     "metadata": {},
     "output_type": "display_data"
    },
    {
     "data": {
      "text/html": [
       "<br>    <style><br>        .wandb-row {<br>            display: flex;<br>            flex-direction: row;<br>            flex-wrap: wrap;<br>            justify-content: flex-start;<br>            width: 100%;<br>        }<br>        .wandb-col {<br>            display: flex;<br>            flex-direction: column;<br>            flex-basis: 100%;<br>            flex: 1;<br>            padding: 10px;<br>        }<br>    </style><br><div class=\"wandb-row\"><div class=\"wandb-col\"><h3>Run history:</h3><br/><table class=\"wandb\"><tr><td>best_test_loss_log</td><td>▁</td></tr><tr><td>epoch</td><td>▁▁▂▂▂▂▃▃▃▄▄▄▅▅▅▅▆▆▆▇▇▇▇██</td></tr><tr><td>test_loss_log</td><td>██▆▅▅▄▄▅▃▃▃▃▃▂▂▃▂▂▂▂▁▁▂▂▁</td></tr><tr><td>test_r2_score</td><td>▁</td></tr><tr><td>test_rmse</td><td>▁</td></tr><tr><td>train_loss_log</td><td>██▆▅▅▄▄▅▃▄▄▃▃▂▂▃▂▂▂▂▁▁▂▂▁</td></tr></table><br/></div><div class=\"wandb-col\"><h3>Run summary:</h3><br/><table class=\"wandb\"><tr><td>best_test_loss_log</td><td>1.25558</td></tr><tr><td>epoch</td><td>24</td></tr><tr><td>test_loss_log</td><td>1.25558</td></tr><tr><td>test_r2_score</td><td>-0.03328</td></tr><tr><td>test_rmse</td><td>60.99915</td></tr><tr><td>train_loss_log</td><td>1.24904</td></tr></table><br/></div></div>"
      ],
      "text/plain": [
       "<IPython.core.display.HTML object>"
      ]
     },
     "metadata": {},
     "output_type": "display_data"
    },
    {
     "data": {
      "text/html": [
       " View run <strong style=\"color:#cdcd00\">flowing-sweep-5</strong> at: <a href='https://wandb.ai/joaopaesteves99-opensc/hackernews-score-predictor/runs/sx0jfggl' target=\"_blank\">https://wandb.ai/joaopaesteves99-opensc/hackernews-score-predictor/runs/sx0jfggl</a><br> View project at: <a href='https://wandb.ai/joaopaesteves99-opensc/hackernews-score-predictor' target=\"_blank\">https://wandb.ai/joaopaesteves99-opensc/hackernews-score-predictor</a><br>Synced 5 W&B file(s), 0 media file(s), 0 artifact file(s) and 0 other file(s)"
      ],
      "text/plain": [
       "<IPython.core.display.HTML object>"
      ]
     },
     "metadata": {},
     "output_type": "display_data"
    },
    {
     "data": {
      "text/html": [
       "Find logs at: <code>/tmp/wandb/wandb/run-20250611_180140-sx0jfggl/logs</code>"
      ],
      "text/plain": [
       "<IPython.core.display.HTML object>"
      ]
     },
     "metadata": {},
     "output_type": "display_data"
    },
    {
     "name": "stderr",
     "output_type": "stream",
     "text": [
      "\u001b[34m\u001b[1mwandb\u001b[0m: Agent Starting Run: m5xzs50c with config:\n",
      "\u001b[34m\u001b[1mwandb\u001b[0m: \tbatch_size: 1024\n",
      "\u001b[34m\u001b[1mwandb\u001b[0m: \tdropout_rate: 0.2728764986683999\n",
      "\u001b[34m\u001b[1mwandb\u001b[0m: \tepochs: 25\n",
      "\u001b[34m\u001b[1mwandb\u001b[0m: \tlayer_1_size: 256\n",
      "\u001b[34m\u001b[1mwandb\u001b[0m: \tlayer_2_size: 64\n",
      "\u001b[34m\u001b[1mwandb\u001b[0m: \tlearning_rate: 0.0027283761985306657\n",
      "\u001b[34m\u001b[1mwandb\u001b[0m: \toptimizer: adamw\n",
      "\u001b[34m\u001b[1mwandb\u001b[0m: \tweight_decay: 2.183708485720008e-05\n"
     ]
    },
    {
     "data": {
      "text/html": [
       "Tracking run with wandb version 0.20.1"
      ],
      "text/plain": [
       "<IPython.core.display.HTML object>"
      ]
     },
     "metadata": {},
     "output_type": "display_data"
    },
    {
     "data": {
      "text/html": [
       "Run data is saved locally in <code>/tmp/wandb/wandb/run-20250611_180339-m5xzs50c</code>"
      ],
      "text/plain": [
       "<IPython.core.display.HTML object>"
      ]
     },
     "metadata": {},
     "output_type": "display_data"
    },
    {
     "data": {
      "text/html": [
       "Syncing run <strong><a href='https://wandb.ai/joaopaesteves99-opensc/hackernews-score-predictor/runs/m5xzs50c' target=\"_blank\">crisp-sweep-6</a></strong> to <a href='https://wandb.ai/joaopaesteves99-opensc/hackernews-score-predictor' target=\"_blank\">Weights & Biases</a> (<a href='https://wandb.me/developer-guide' target=\"_blank\">docs</a>)<br>Sweep page: <a href='https://wandb.ai/joaopaesteves99-opensc/hackernews-score-predictor/sweeps/6piipew8' target=\"_blank\">https://wandb.ai/joaopaesteves99-opensc/hackernews-score-predictor/sweeps/6piipew8</a>"
      ],
      "text/plain": [
       "<IPython.core.display.HTML object>"
      ]
     },
     "metadata": {},
     "output_type": "display_data"
    },
    {
     "data": {
      "text/html": [
       " View project at <a href='https://wandb.ai/joaopaesteves99-opensc/hackernews-score-predictor' target=\"_blank\">https://wandb.ai/joaopaesteves99-opensc/hackernews-score-predictor</a>"
      ],
      "text/plain": [
       "<IPython.core.display.HTML object>"
      ]
     },
     "metadata": {},
     "output_type": "display_data"
    },
    {
     "data": {
      "text/html": [
       " View sweep at <a href='https://wandb.ai/joaopaesteves99-opensc/hackernews-score-predictor/sweeps/6piipew8' target=\"_blank\">https://wandb.ai/joaopaesteves99-opensc/hackernews-score-predictor/sweeps/6piipew8</a>"
      ],
      "text/plain": [
       "<IPython.core.display.HTML object>"
      ]
     },
     "metadata": {},
     "output_type": "display_data"
    },
    {
     "data": {
      "text/html": [
       " View run at <a href='https://wandb.ai/joaopaesteves99-opensc/hackernews-score-predictor/runs/m5xzs50c' target=\"_blank\">https://wandb.ai/joaopaesteves99-opensc/hackernews-score-predictor/runs/m5xzs50c</a>"
      ],
      "text/plain": [
       "<IPython.core.display.HTML object>"
      ]
     },
     "metadata": {},
     "output_type": "display_data"
    },
    {
     "data": {
      "text/html": [],
      "text/plain": [
       "<IPython.core.display.HTML object>"
      ]
     },
     "metadata": {},
     "output_type": "display_data"
    },
    {
     "data": {
      "text/html": [
       "<br>    <style><br>        .wandb-row {<br>            display: flex;<br>            flex-direction: row;<br>            flex-wrap: wrap;<br>            justify-content: flex-start;<br>            width: 100%;<br>        }<br>        .wandb-col {<br>            display: flex;<br>            flex-direction: column;<br>            flex-basis: 100%;<br>            flex: 1;<br>            padding: 10px;<br>        }<br>    </style><br><div class=\"wandb-row\"><div class=\"wandb-col\"><h3>Run history:</h3><br/><table class=\"wandb\"><tr><td>best_test_loss_log</td><td>▁</td></tr><tr><td>epoch</td><td>▁▁▂▂▂▂▃▃▃▄▄▄▅▅▅▅▆▆▆▇▇▇▇██</td></tr><tr><td>test_loss_log</td><td>▅█▂▄▃▂▄▂▂▂▁▁▃▂▂▂▁▁▂▁▁▁▁▁▂</td></tr><tr><td>test_r2_score</td><td>▁</td></tr><tr><td>test_rmse</td><td>▁</td></tr><tr><td>train_loss_log</td><td>▅█▂▄▃▂▄▂▂▂▁▁▃▂▂▂▁▂▁▁▁▁▁▁▁</td></tr></table><br/></div><div class=\"wandb-col\"><h3>Run summary:</h3><br/><table class=\"wandb\"><tr><td>best_test_loss_log</td><td>1.25345</td></tr><tr><td>epoch</td><td>24</td></tr><tr><td>test_loss_log</td><td>1.25495</td></tr><tr><td>test_r2_score</td><td>-0.03365</td></tr><tr><td>test_rmse</td><td>61.01016</td></tr><tr><td>train_loss_log</td><td>1.2475</td></tr></table><br/></div></div>"
      ],
      "text/plain": [
       "<IPython.core.display.HTML object>"
      ]
     },
     "metadata": {},
     "output_type": "display_data"
    },
    {
     "data": {
      "text/html": [
       " View run <strong style=\"color:#cdcd00\">crisp-sweep-6</strong> at: <a href='https://wandb.ai/joaopaesteves99-opensc/hackernews-score-predictor/runs/m5xzs50c' target=\"_blank\">https://wandb.ai/joaopaesteves99-opensc/hackernews-score-predictor/runs/m5xzs50c</a><br> View project at: <a href='https://wandb.ai/joaopaesteves99-opensc/hackernews-score-predictor' target=\"_blank\">https://wandb.ai/joaopaesteves99-opensc/hackernews-score-predictor</a><br>Synced 5 W&B file(s), 0 media file(s), 0 artifact file(s) and 0 other file(s)"
      ],
      "text/plain": [
       "<IPython.core.display.HTML object>"
      ]
     },
     "metadata": {},
     "output_type": "display_data"
    },
    {
     "data": {
      "text/html": [
       "Find logs at: <code>/tmp/wandb/wandb/run-20250611_180339-m5xzs50c/logs</code>"
      ],
      "text/plain": [
       "<IPython.core.display.HTML object>"
      ]
     },
     "metadata": {},
     "output_type": "display_data"
    },
    {
     "name": "stderr",
     "output_type": "stream",
     "text": [
      "\u001b[34m\u001b[1mwandb\u001b[0m: Agent Starting Run: 4bfp8t51 with config:\n",
      "\u001b[34m\u001b[1mwandb\u001b[0m: \tbatch_size: 512\n",
      "\u001b[34m\u001b[1mwandb\u001b[0m: \tdropout_rate: 0.19366429712194205\n",
      "\u001b[34m\u001b[1mwandb\u001b[0m: \tepochs: 30\n",
      "\u001b[34m\u001b[1mwandb\u001b[0m: \tlayer_1_size: 256\n",
      "\u001b[34m\u001b[1mwandb\u001b[0m: \tlayer_2_size: 64\n",
      "\u001b[34m\u001b[1mwandb\u001b[0m: \tlearning_rate: 0.001529403289858678\n",
      "\u001b[34m\u001b[1mwandb\u001b[0m: \toptimizer: sgd\n",
      "\u001b[34m\u001b[1mwandb\u001b[0m: \tweight_decay: 0.0038099090520785214\n"
     ]
    },
    {
     "data": {
      "text/html": [
       "Tracking run with wandb version 0.20.1"
      ],
      "text/plain": [
       "<IPython.core.display.HTML object>"
      ]
     },
     "metadata": {},
     "output_type": "display_data"
    },
    {
     "data": {
      "text/html": [
       "Run data is saved locally in <code>/tmp/wandb/wandb/run-20250611_180604-4bfp8t51</code>"
      ],
      "text/plain": [
       "<IPython.core.display.HTML object>"
      ]
     },
     "metadata": {},
     "output_type": "display_data"
    },
    {
     "data": {
      "text/html": [
       "Syncing run <strong><a href='https://wandb.ai/joaopaesteves99-opensc/hackernews-score-predictor/runs/4bfp8t51' target=\"_blank\">amber-sweep-7</a></strong> to <a href='https://wandb.ai/joaopaesteves99-opensc/hackernews-score-predictor' target=\"_blank\">Weights & Biases</a> (<a href='https://wandb.me/developer-guide' target=\"_blank\">docs</a>)<br>Sweep page: <a href='https://wandb.ai/joaopaesteves99-opensc/hackernews-score-predictor/sweeps/6piipew8' target=\"_blank\">https://wandb.ai/joaopaesteves99-opensc/hackernews-score-predictor/sweeps/6piipew8</a>"
      ],
      "text/plain": [
       "<IPython.core.display.HTML object>"
      ]
     },
     "metadata": {},
     "output_type": "display_data"
    },
    {
     "data": {
      "text/html": [
       " View project at <a href='https://wandb.ai/joaopaesteves99-opensc/hackernews-score-predictor' target=\"_blank\">https://wandb.ai/joaopaesteves99-opensc/hackernews-score-predictor</a>"
      ],
      "text/plain": [
       "<IPython.core.display.HTML object>"
      ]
     },
     "metadata": {},
     "output_type": "display_data"
    },
    {
     "data": {
      "text/html": [
       " View sweep at <a href='https://wandb.ai/joaopaesteves99-opensc/hackernews-score-predictor/sweeps/6piipew8' target=\"_blank\">https://wandb.ai/joaopaesteves99-opensc/hackernews-score-predictor/sweeps/6piipew8</a>"
      ],
      "text/plain": [
       "<IPython.core.display.HTML object>"
      ]
     },
     "metadata": {},
     "output_type": "display_data"
    },
    {
     "data": {
      "text/html": [
       " View run at <a href='https://wandb.ai/joaopaesteves99-opensc/hackernews-score-predictor/runs/4bfp8t51' target=\"_blank\">https://wandb.ai/joaopaesteves99-opensc/hackernews-score-predictor/runs/4bfp8t51</a>"
      ],
      "text/plain": [
       "<IPython.core.display.HTML object>"
      ]
     },
     "metadata": {},
     "output_type": "display_data"
    },
    {
     "data": {
      "text/html": [],
      "text/plain": [
       "<IPython.core.display.HTML object>"
      ]
     },
     "metadata": {},
     "output_type": "display_data"
    },
    {
     "data": {
      "text/html": [
       "<br>    <style><br>        .wandb-row {<br>            display: flex;<br>            flex-direction: row;<br>            flex-wrap: wrap;<br>            justify-content: flex-start;<br>            width: 100%;<br>        }<br>        .wandb-col {<br>            display: flex;<br>            flex-direction: column;<br>            flex-basis: 100%;<br>            flex: 1;<br>            padding: 10px;<br>        }<br>    </style><br><div class=\"wandb-row\"><div class=\"wandb-col\"><h3>Run history:</h3><br/><table class=\"wandb\"><tr><td>best_test_loss_log</td><td>▁</td></tr><tr><td>epoch</td><td>▁▁▁▂▂▂▂▃▃▃▃▄▄▄▄▅▅▅▅▆▆▆▆▇▇▇▇███</td></tr><tr><td>test_loss_log</td><td>█▆▅▆▄▃▃▃▄▃▂▂▃▄▃▂▂▂▂▁▂▄▂▂▁▁▂▁▁▁</td></tr><tr><td>test_r2_score</td><td>▁</td></tr><tr><td>test_rmse</td><td>▁</td></tr><tr><td>train_loss_log</td><td>█▆▅▆▄▃▃▃▄▃▂▂▃▃▃▂▂▂▂▂▁▄▂▂▁▁▁▁▁▁</td></tr></table><br/></div><div class=\"wandb-col\"><h3>Run summary:</h3><br/><table class=\"wandb\"><tr><td>best_test_loss_log</td><td>1.25534</td></tr><tr><td>epoch</td><td>29</td></tr><tr><td>test_loss_log</td><td>1.25534</td></tr><tr><td>test_r2_score</td><td>-0.03294</td></tr><tr><td>test_rmse</td><td>60.98924</td></tr><tr><td>train_loss_log</td><td>1.24893</td></tr></table><br/></div></div>"
      ],
      "text/plain": [
       "<IPython.core.display.HTML object>"
      ]
     },
     "metadata": {},
     "output_type": "display_data"
    },
    {
     "data": {
      "text/html": [
       " View run <strong style=\"color:#cdcd00\">amber-sweep-7</strong> at: <a href='https://wandb.ai/joaopaesteves99-opensc/hackernews-score-predictor/runs/4bfp8t51' target=\"_blank\">https://wandb.ai/joaopaesteves99-opensc/hackernews-score-predictor/runs/4bfp8t51</a><br> View project at: <a href='https://wandb.ai/joaopaesteves99-opensc/hackernews-score-predictor' target=\"_blank\">https://wandb.ai/joaopaesteves99-opensc/hackernews-score-predictor</a><br>Synced 5 W&B file(s), 0 media file(s), 0 artifact file(s) and 0 other file(s)"
      ],
      "text/plain": [
       "<IPython.core.display.HTML object>"
      ]
     },
     "metadata": {},
     "output_type": "display_data"
    },
    {
     "data": {
      "text/html": [
       "Find logs at: <code>/tmp/wandb/wandb/run-20250611_180604-4bfp8t51/logs</code>"
      ],
      "text/plain": [
       "<IPython.core.display.HTML object>"
      ]
     },
     "metadata": {},
     "output_type": "display_data"
    },
    {
     "name": "stderr",
     "output_type": "stream",
     "text": [
      "\u001b[34m\u001b[1mwandb\u001b[0m: Agent Starting Run: ayhvo5mm with config:\n",
      "\u001b[34m\u001b[1mwandb\u001b[0m: \tbatch_size: 256\n",
      "\u001b[34m\u001b[1mwandb\u001b[0m: \tdropout_rate: 0.4453664565396888\n",
      "\u001b[34m\u001b[1mwandb\u001b[0m: \tepochs: 15\n",
      "\u001b[34m\u001b[1mwandb\u001b[0m: \tlayer_1_size: 256\n",
      "\u001b[34m\u001b[1mwandb\u001b[0m: \tlayer_2_size: 64\n",
      "\u001b[34m\u001b[1mwandb\u001b[0m: \tlearning_rate: 1.6305579488087907e-05\n",
      "\u001b[34m\u001b[1mwandb\u001b[0m: \toptimizer: sgd\n",
      "\u001b[34m\u001b[1mwandb\u001b[0m: \tweight_decay: 8.354366518481734e-05\n"
     ]
    },
    {
     "data": {
      "text/html": [
       "Tracking run with wandb version 0.20.1"
      ],
      "text/plain": [
       "<IPython.core.display.HTML object>"
      ]
     },
     "metadata": {},
     "output_type": "display_data"
    },
    {
     "data": {
      "text/html": [
       "Run data is saved locally in <code>/tmp/wandb/wandb/run-20250611_180909-ayhvo5mm</code>"
      ],
      "text/plain": [
       "<IPython.core.display.HTML object>"
      ]
     },
     "metadata": {},
     "output_type": "display_data"
    },
    {
     "data": {
      "text/html": [
       "Syncing run <strong><a href='https://wandb.ai/joaopaesteves99-opensc/hackernews-score-predictor/runs/ayhvo5mm' target=\"_blank\">exalted-sweep-8</a></strong> to <a href='https://wandb.ai/joaopaesteves99-opensc/hackernews-score-predictor' target=\"_blank\">Weights & Biases</a> (<a href='https://wandb.me/developer-guide' target=\"_blank\">docs</a>)<br>Sweep page: <a href='https://wandb.ai/joaopaesteves99-opensc/hackernews-score-predictor/sweeps/6piipew8' target=\"_blank\">https://wandb.ai/joaopaesteves99-opensc/hackernews-score-predictor/sweeps/6piipew8</a>"
      ],
      "text/plain": [
       "<IPython.core.display.HTML object>"
      ]
     },
     "metadata": {},
     "output_type": "display_data"
    },
    {
     "data": {
      "text/html": [
       " View project at <a href='https://wandb.ai/joaopaesteves99-opensc/hackernews-score-predictor' target=\"_blank\">https://wandb.ai/joaopaesteves99-opensc/hackernews-score-predictor</a>"
      ],
      "text/plain": [
       "<IPython.core.display.HTML object>"
      ]
     },
     "metadata": {},
     "output_type": "display_data"
    },
    {
     "data": {
      "text/html": [
       " View sweep at <a href='https://wandb.ai/joaopaesteves99-opensc/hackernews-score-predictor/sweeps/6piipew8' target=\"_blank\">https://wandb.ai/joaopaesteves99-opensc/hackernews-score-predictor/sweeps/6piipew8</a>"
      ],
      "text/plain": [
       "<IPython.core.display.HTML object>"
      ]
     },
     "metadata": {},
     "output_type": "display_data"
    },
    {
     "data": {
      "text/html": [
       " View run at <a href='https://wandb.ai/joaopaesteves99-opensc/hackernews-score-predictor/runs/ayhvo5mm' target=\"_blank\">https://wandb.ai/joaopaesteves99-opensc/hackernews-score-predictor/runs/ayhvo5mm</a>"
      ],
      "text/plain": [
       "<IPython.core.display.HTML object>"
      ]
     },
     "metadata": {},
     "output_type": "display_data"
    },
    {
     "data": {
      "text/html": [],
      "text/plain": [
       "<IPython.core.display.HTML object>"
      ]
     },
     "metadata": {},
     "output_type": "display_data"
    },
    {
     "data": {
      "text/html": [
       "<br>    <style><br>        .wandb-row {<br>            display: flex;<br>            flex-direction: row;<br>            flex-wrap: wrap;<br>            justify-content: flex-start;<br>            width: 100%;<br>        }<br>        .wandb-col {<br>            display: flex;<br>            flex-direction: column;<br>            flex-basis: 100%;<br>            flex: 1;<br>            padding: 10px;<br>        }<br>    </style><br><div class=\"wandb-row\"><div class=\"wandb-col\"><h3>Run history:</h3><br/><table class=\"wandb\"><tr><td>best_test_loss_log</td><td>▁</td></tr><tr><td>epoch</td><td>▁▁▂▃▃▃▄▅▅▅▆▇▇▇█</td></tr><tr><td>test_loss_log</td><td>█▃▂▁▁▁▁▁▁▁▁▁▁▁▁</td></tr><tr><td>test_r2_score</td><td>▁</td></tr><tr><td>test_rmse</td><td>▁</td></tr><tr><td>train_loss_log</td><td>█▃▂▁▁▁▁▁▁▁▁▁▁▁▁</td></tr></table><br/></div><div class=\"wandb-col\"><h3>Run summary:</h3><br/><table class=\"wandb\"><tr><td>best_test_loss_log</td><td>1.25995</td></tr><tr><td>epoch</td><td>14</td></tr><tr><td>test_loss_log</td><td>1.25995</td></tr><tr><td>test_r2_score</td><td>-0.03402</td></tr><tr><td>test_rmse</td><td>61.02106</td></tr><tr><td>train_loss_log</td><td>1.2535</td></tr></table><br/></div></div>"
      ],
      "text/plain": [
       "<IPython.core.display.HTML object>"
      ]
     },
     "metadata": {},
     "output_type": "display_data"
    },
    {
     "data": {
      "text/html": [
       " View run <strong style=\"color:#cdcd00\">exalted-sweep-8</strong> at: <a href='https://wandb.ai/joaopaesteves99-opensc/hackernews-score-predictor/runs/ayhvo5mm' target=\"_blank\">https://wandb.ai/joaopaesteves99-opensc/hackernews-score-predictor/runs/ayhvo5mm</a><br> View project at: <a href='https://wandb.ai/joaopaesteves99-opensc/hackernews-score-predictor' target=\"_blank\">https://wandb.ai/joaopaesteves99-opensc/hackernews-score-predictor</a><br>Synced 5 W&B file(s), 0 media file(s), 0 artifact file(s) and 0 other file(s)"
      ],
      "text/plain": [
       "<IPython.core.display.HTML object>"
      ]
     },
     "metadata": {},
     "output_type": "display_data"
    },
    {
     "data": {
      "text/html": [
       "Find logs at: <code>/tmp/wandb/wandb/run-20250611_180909-ayhvo5mm/logs</code>"
      ],
      "text/plain": [
       "<IPython.core.display.HTML object>"
      ]
     },
     "metadata": {},
     "output_type": "display_data"
    },
    {
     "name": "stderr",
     "output_type": "stream",
     "text": [
      "\u001b[34m\u001b[1mwandb\u001b[0m: Agent Starting Run: ltpolfyk with config:\n",
      "\u001b[34m\u001b[1mwandb\u001b[0m: \tbatch_size: 2048\n",
      "\u001b[34m\u001b[1mwandb\u001b[0m: \tdropout_rate: 0.318231984357067\n",
      "\u001b[34m\u001b[1mwandb\u001b[0m: \tepochs: 30\n",
      "\u001b[34m\u001b[1mwandb\u001b[0m: \tlayer_1_size: 128\n",
      "\u001b[34m\u001b[1mwandb\u001b[0m: \tlayer_2_size: 64\n",
      "\u001b[34m\u001b[1mwandb\u001b[0m: \tlearning_rate: 0.07901443179909735\n",
      "\u001b[34m\u001b[1mwandb\u001b[0m: \toptimizer: adam\n",
      "\u001b[34m\u001b[1mwandb\u001b[0m: \tweight_decay: 6.218408672183103e-06\n"
     ]
    },
    {
     "data": {
      "text/html": [
       "Tracking run with wandb version 0.20.1"
      ],
      "text/plain": [
       "<IPython.core.display.HTML object>"
      ]
     },
     "metadata": {},
     "output_type": "display_data"
    },
    {
     "data": {
      "text/html": [
       "Run data is saved locally in <code>/tmp/wandb/wandb/run-20250611_181132-ltpolfyk</code>"
      ],
      "text/plain": [
       "<IPython.core.display.HTML object>"
      ]
     },
     "metadata": {},
     "output_type": "display_data"
    },
    {
     "data": {
      "text/html": [
       "Syncing run <strong><a href='https://wandb.ai/joaopaesteves99-opensc/hackernews-score-predictor/runs/ltpolfyk' target=\"_blank\">wild-sweep-9</a></strong> to <a href='https://wandb.ai/joaopaesteves99-opensc/hackernews-score-predictor' target=\"_blank\">Weights & Biases</a> (<a href='https://wandb.me/developer-guide' target=\"_blank\">docs</a>)<br>Sweep page: <a href='https://wandb.ai/joaopaesteves99-opensc/hackernews-score-predictor/sweeps/6piipew8' target=\"_blank\">https://wandb.ai/joaopaesteves99-opensc/hackernews-score-predictor/sweeps/6piipew8</a>"
      ],
      "text/plain": [
       "<IPython.core.display.HTML object>"
      ]
     },
     "metadata": {},
     "output_type": "display_data"
    },
    {
     "data": {
      "text/html": [
       " View project at <a href='https://wandb.ai/joaopaesteves99-opensc/hackernews-score-predictor' target=\"_blank\">https://wandb.ai/joaopaesteves99-opensc/hackernews-score-predictor</a>"
      ],
      "text/plain": [
       "<IPython.core.display.HTML object>"
      ]
     },
     "metadata": {},
     "output_type": "display_data"
    },
    {
     "data": {
      "text/html": [
       " View sweep at <a href='https://wandb.ai/joaopaesteves99-opensc/hackernews-score-predictor/sweeps/6piipew8' target=\"_blank\">https://wandb.ai/joaopaesteves99-opensc/hackernews-score-predictor/sweeps/6piipew8</a>"
      ],
      "text/plain": [
       "<IPython.core.display.HTML object>"
      ]
     },
     "metadata": {},
     "output_type": "display_data"
    },
    {
     "data": {
      "text/html": [
       " View run at <a href='https://wandb.ai/joaopaesteves99-opensc/hackernews-score-predictor/runs/ltpolfyk' target=\"_blank\">https://wandb.ai/joaopaesteves99-opensc/hackernews-score-predictor/runs/ltpolfyk</a>"
      ],
      "text/plain": [
       "<IPython.core.display.HTML object>"
      ]
     },
     "metadata": {},
     "output_type": "display_data"
    },
    {
     "data": {
      "text/html": [],
      "text/plain": [
       "<IPython.core.display.HTML object>"
      ]
     },
     "metadata": {},
     "output_type": "display_data"
    },
    {
     "data": {
      "text/html": [
       "<br>    <style><br>        .wandb-row {<br>            display: flex;<br>            flex-direction: row;<br>            flex-wrap: wrap;<br>            justify-content: flex-start;<br>            width: 100%;<br>        }<br>        .wandb-col {<br>            display: flex;<br>            flex-direction: column;<br>            flex-basis: 100%;<br>            flex: 1;<br>            padding: 10px;<br>        }<br>    </style><br><div class=\"wandb-row\"><div class=\"wandb-col\"><h3>Run history:</h3><br/><table class=\"wandb\"><tr><td>best_test_loss_log</td><td>▁</td></tr><tr><td>epoch</td><td>▁▁▁▂▂▂▂▃▃▃▃▄▄▄▄▅▅▅▅▆▆▆▆▇▇▇▇███</td></tr><tr><td>test_loss_log</td><td>█▃▂▂▂▁▆▁▁▂▂▂▃▂▃▂▇▂▂▅▃▅▂▃▄▅▇▆▅▇</td></tr><tr><td>test_r2_score</td><td>▁</td></tr><tr><td>test_rmse</td><td>▁</td></tr><tr><td>train_loss_log</td><td>█▃▂▂▁▁▆▁▁▂▁▁▃▁▂▂▇▂▂▅▃▅▂▃▄▅▇▆▅▇</td></tr></table><br/></div><div class=\"wandb-col\"><h3>Run summary:</h3><br/><table class=\"wandb\"><tr><td>best_test_loss_log</td><td>1.25623</td></tr><tr><td>epoch</td><td>29</td></tr><tr><td>test_loss_log</td><td>1.26419</td></tr><tr><td>test_r2_score</td><td>-0.03275</td></tr><tr><td>test_rmse</td><td>60.98354</td></tr><tr><td>train_loss_log</td><td>1.25765</td></tr></table><br/></div></div>"
      ],
      "text/plain": [
       "<IPython.core.display.HTML object>"
      ]
     },
     "metadata": {},
     "output_type": "display_data"
    },
    {
     "data": {
      "text/html": [
       " View run <strong style=\"color:#cdcd00\">wild-sweep-9</strong> at: <a href='https://wandb.ai/joaopaesteves99-opensc/hackernews-score-predictor/runs/ltpolfyk' target=\"_blank\">https://wandb.ai/joaopaesteves99-opensc/hackernews-score-predictor/runs/ltpolfyk</a><br> View project at: <a href='https://wandb.ai/joaopaesteves99-opensc/hackernews-score-predictor' target=\"_blank\">https://wandb.ai/joaopaesteves99-opensc/hackernews-score-predictor</a><br>Synced 5 W&B file(s), 0 media file(s), 0 artifact file(s) and 0 other file(s)"
      ],
      "text/plain": [
       "<IPython.core.display.HTML object>"
      ]
     },
     "metadata": {},
     "output_type": "display_data"
    },
    {
     "data": {
      "text/html": [
       "Find logs at: <code>/tmp/wandb/wandb/run-20250611_181132-ltpolfyk/logs</code>"
      ],
      "text/plain": [
       "<IPython.core.display.HTML object>"
      ]
     },
     "metadata": {},
     "output_type": "display_data"
    },
    {
     "name": "stderr",
     "output_type": "stream",
     "text": [
      "\u001b[34m\u001b[1mwandb\u001b[0m: Agent Starting Run: mw23xj6q with config:\n",
      "\u001b[34m\u001b[1mwandb\u001b[0m: \tbatch_size: 1024\n",
      "\u001b[34m\u001b[1mwandb\u001b[0m: \tdropout_rate: 0.2722553482192236\n",
      "\u001b[34m\u001b[1mwandb\u001b[0m: \tepochs: 15\n",
      "\u001b[34m\u001b[1mwandb\u001b[0m: \tlayer_1_size: 64\n",
      "\u001b[34m\u001b[1mwandb\u001b[0m: \tlayer_2_size: 32\n",
      "\u001b[34m\u001b[1mwandb\u001b[0m: \tlearning_rate: 6.731245644798552e-05\n",
      "\u001b[34m\u001b[1mwandb\u001b[0m: \toptimizer: sgd\n",
      "\u001b[34m\u001b[1mwandb\u001b[0m: \tweight_decay: 1.6734860240044057e-05\n"
     ]
    },
    {
     "data": {
      "text/html": [
       "Tracking run with wandb version 0.20.1"
      ],
      "text/plain": [
       "<IPython.core.display.HTML object>"
      ]
     },
     "metadata": {},
     "output_type": "display_data"
    },
    {
     "data": {
      "text/html": [
       "Run data is saved locally in <code>/tmp/wandb/wandb/run-20250611_181343-mw23xj6q</code>"
      ],
      "text/plain": [
       "<IPython.core.display.HTML object>"
      ]
     },
     "metadata": {},
     "output_type": "display_data"
    },
    {
     "data": {
      "text/html": [
       "Syncing run <strong><a href='https://wandb.ai/joaopaesteves99-opensc/hackernews-score-predictor/runs/mw23xj6q' target=\"_blank\">glowing-sweep-10</a></strong> to <a href='https://wandb.ai/joaopaesteves99-opensc/hackernews-score-predictor' target=\"_blank\">Weights & Biases</a> (<a href='https://wandb.me/developer-guide' target=\"_blank\">docs</a>)<br>Sweep page: <a href='https://wandb.ai/joaopaesteves99-opensc/hackernews-score-predictor/sweeps/6piipew8' target=\"_blank\">https://wandb.ai/joaopaesteves99-opensc/hackernews-score-predictor/sweeps/6piipew8</a>"
      ],
      "text/plain": [
       "<IPython.core.display.HTML object>"
      ]
     },
     "metadata": {},
     "output_type": "display_data"
    },
    {
     "data": {
      "text/html": [
       " View project at <a href='https://wandb.ai/joaopaesteves99-opensc/hackernews-score-predictor' target=\"_blank\">https://wandb.ai/joaopaesteves99-opensc/hackernews-score-predictor</a>"
      ],
      "text/plain": [
       "<IPython.core.display.HTML object>"
      ]
     },
     "metadata": {},
     "output_type": "display_data"
    },
    {
     "data": {
      "text/html": [
       " View sweep at <a href='https://wandb.ai/joaopaesteves99-opensc/hackernews-score-predictor/sweeps/6piipew8' target=\"_blank\">https://wandb.ai/joaopaesteves99-opensc/hackernews-score-predictor/sweeps/6piipew8</a>"
      ],
      "text/plain": [
       "<IPython.core.display.HTML object>"
      ]
     },
     "metadata": {},
     "output_type": "display_data"
    },
    {
     "data": {
      "text/html": [
       " View run at <a href='https://wandb.ai/joaopaesteves99-opensc/hackernews-score-predictor/runs/mw23xj6q' target=\"_blank\">https://wandb.ai/joaopaesteves99-opensc/hackernews-score-predictor/runs/mw23xj6q</a>"
      ],
      "text/plain": [
       "<IPython.core.display.HTML object>"
      ]
     },
     "metadata": {},
     "output_type": "display_data"
    },
    {
     "data": {
      "text/html": [],
      "text/plain": [
       "<IPython.core.display.HTML object>"
      ]
     },
     "metadata": {},
     "output_type": "display_data"
    },
    {
     "data": {
      "text/html": [
       "<br>    <style><br>        .wandb-row {<br>            display: flex;<br>            flex-direction: row;<br>            flex-wrap: wrap;<br>            justify-content: flex-start;<br>            width: 100%;<br>        }<br>        .wandb-col {<br>            display: flex;<br>            flex-direction: column;<br>            flex-basis: 100%;<br>            flex: 1;<br>            padding: 10px;<br>        }<br>    </style><br><div class=\"wandb-row\"><div class=\"wandb-col\"><h3>Run history:</h3><br/><table class=\"wandb\"><tr><td>best_test_loss_log</td><td>▁</td></tr><tr><td>epoch</td><td>▁▁▂▃▃▃▄▅▅▅▆▇▇▇█</td></tr><tr><td>test_loss_log</td><td>█▃▂▂▂▁▁▁▁▁▁▁▁▁▁</td></tr><tr><td>test_r2_score</td><td>▁</td></tr><tr><td>test_rmse</td><td>▁</td></tr><tr><td>train_loss_log</td><td>█▃▂▂▂▁▁▁▁▁▁▁▁▁▁</td></tr></table><br/></div><div class=\"wandb-col\"><h3>Run summary:</h3><br/><table class=\"wandb\"><tr><td>best_test_loss_log</td><td>1.26315</td></tr><tr><td>epoch</td><td>14</td></tr><tr><td>test_loss_log</td><td>1.26315</td></tr><tr><td>test_r2_score</td><td>-0.03423</td></tr><tr><td>test_rmse</td><td>61.0274</td></tr><tr><td>train_loss_log</td><td>1.25644</td></tr></table><br/></div></div>"
      ],
      "text/plain": [
       "<IPython.core.display.HTML object>"
      ]
     },
     "metadata": {},
     "output_type": "display_data"
    },
    {
     "data": {
      "text/html": [
       " View run <strong style=\"color:#cdcd00\">glowing-sweep-10</strong> at: <a href='https://wandb.ai/joaopaesteves99-opensc/hackernews-score-predictor/runs/mw23xj6q' target=\"_blank\">https://wandb.ai/joaopaesteves99-opensc/hackernews-score-predictor/runs/mw23xj6q</a><br> View project at: <a href='https://wandb.ai/joaopaesteves99-opensc/hackernews-score-predictor' target=\"_blank\">https://wandb.ai/joaopaesteves99-opensc/hackernews-score-predictor</a><br>Synced 5 W&B file(s), 0 media file(s), 0 artifact file(s) and 0 other file(s)"
      ],
      "text/plain": [
       "<IPython.core.display.HTML object>"
      ]
     },
     "metadata": {},
     "output_type": "display_data"
    },
    {
     "data": {
      "text/html": [
       "Find logs at: <code>/tmp/wandb/wandb/run-20250611_181343-mw23xj6q/logs</code>"
      ],
      "text/plain": [
       "<IPython.core.display.HTML object>"
      ]
     },
     "metadata": {},
     "output_type": "display_data"
    },
    {
     "name": "stdout",
     "output_type": "stream",
     "text": [
      "\n",
      "✅ Sweep setup complete. Uncomment the agent line to run.\n"
     ]
    }
   ],
   "source": [
    "# Run the sweep (this will take a while!)\n",
    "# It will run 10 different combinations of parameters.\n",
    "print(\"🚀 Starting hyperparameter sweep...\")\n",
    "\n",
    "sweep_id = wandb.sweep(sweep_config, project=\"hackernews-score-predictor\")\n",
    "print(f\"📊 Sweep ID: {sweep_id}\")\n",
    "print(f\"🌐 Monitor at: https://wandb.ai/{wandb.api.default_entity}/hackernews-score-predictor/sweeps/{sweep_id}\")\n",
    "\n",
    "# UNCOMMENT THE LINE BELOW TO RUN THE SWEEP\n",
    "wandb.agent(sweep_id, train_model, count=10) \n",
    "\n",
    "print(\"\\n✅ Sweep setup complete. Uncomment the agent line to run.\")"
   ]
  },
  {
   "cell_type": "code",
   "execution_count": 31,
   "metadata": {},
   "outputs": [
    {
     "name": "stderr",
     "output_type": "stream",
     "text": [
      "\u001b[34m\u001b[1mwandb\u001b[0m: Sorting runs by -summary_metrics.test_r2_score\n"
     ]
    },
    {
     "name": "stdout",
     "output_type": "stream",
     "text": [
      "6piipew8\n",
      "\n",
      "🏆 BEST PARAMETERS (R²: -0.0325)\n",
      "==================================================\n",
      "epochs         : 25\n",
      "optimizer      : adamw\n",
      "batch_size     : 1024\n",
      "dropout_rate   : 0.2611039257792485\n",
      "layer_1_size   : 256\n",
      "layer_2_size   : 32\n",
      "weight_decay   : 3.329372020121797e-06\n",
      "learning_rate  : 0.001170585916801457\n",
      "==================================================\n",
      "{'epochs': 100, 'optimizer': 'adamw', 'batch_size': 1024, 'dropout_rate': 0.2611039257792485, 'layer_1_size': 256, 'layer_2_size': 32, 'weight_decay': 3.329372020121797e-06, 'learning_rate': 0.001170585916801457}\n"
     ]
    }
   ],
   "source": [
    "# Get the best parameters from a completed sweep\n",
    "def get_best_parameters(sweep_id):\n",
    "    api = wandb.Api()\n",
    "    try:\n",
    "        sweep = api.sweep(f\"{wandb.api.default_entity}/hackernews-score-predictor/{sweep_id}\")\n",
    "        print(sweep_id)\n",
    "    except wandb.errors.CommError:\n",
    "        print(f\"❌ Sweep '{sweep_id}' not found. Please check the sweep ID and project name.\")\n",
    "        return None\n",
    "    \n",
    "    # Get the best run based on the metric we defined (test_r2_score)\n",
    "    best_run = sweep.best_run()\n",
    "    \n",
    "    if best_run:\n",
    "        print(f\"\\n🏆 BEST PARAMETERS (R²: {best_run.summary.get('test_r2_score', 'N/A'):.4f})\")\n",
    "        print(\"=\" * 50)\n",
    "        \n",
    "        best_config = {}\n",
    "        for key, value in best_run.config.items():\n",
    "            best_config[key] = value\n",
    "            print(f\"{key:15}: {value}\")\n",
    "        \n",
    "        print(\"=\" * 50)\n",
    "        return best_config\n",
    "    else:\n",
    "        print(\"❌ No successful runs found in the sweep!\")\n",
    "        return None\n",
    "\n",
    "# --- IMPORTANT ---\n",
    "best_config = get_best_parameters(\"6piipew8\")\n",
    "best_config['epochs'] = 100\n",
    "print(best_config)"
   ]
  },
  {
   "cell_type": "code",
   "execution_count": 32,
   "metadata": {},
   "outputs": [
    {
     "name": "stdout",
     "output_type": "stream",
     "text": [
      "🚀 Training final model with best parameters...\n"
     ]
    },
    {
     "data": {
      "text/html": [
       "Changes to your `wandb` environment variables will be ignored because your `wandb` session has already started. For more information on how to modify your settings with `wandb.init()` arguments, please refer to <a href='https://wandb.me/wandb-init' target=\"_blank\">the W&B docs</a>."
      ],
      "text/plain": [
       "<IPython.core.display.HTML object>"
      ]
     },
     "metadata": {},
     "output_type": "display_data"
    },
    {
     "data": {
      "text/html": [
       "Ignoring project 'hackernews-score-predictor' when running a sweep."
      ],
      "text/plain": [
       "<IPython.core.display.HTML object>"
      ]
     },
     "metadata": {},
     "output_type": "display_data"
    },
    {
     "data": {
      "text/html": [
       "Finishing previous runs because reinit is set to 'default'."
      ],
      "text/plain": [
       "<IPython.core.display.HTML object>"
      ]
     },
     "metadata": {},
     "output_type": "display_data"
    },
    {
     "data": {
      "text/html": [],
      "text/plain": [
       "<IPython.core.display.HTML object>"
      ]
     },
     "metadata": {},
     "output_type": "display_data"
    },
    {
     "data": {
      "text/html": [
       "<br>    <style><br>        .wandb-row {<br>            display: flex;<br>            flex-direction: row;<br>            flex-wrap: wrap;<br>            justify-content: flex-start;<br>            width: 100%;<br>        }<br>        .wandb-col {<br>            display: flex;<br>            flex-direction: column;<br>            flex-basis: 100%;<br>            flex: 1;<br>            padding: 10px;<br>        }<br>    </style><br><div class=\"wandb-row\"><div class=\"wandb-col\"><h3>Run history:</h3><br/><table class=\"wandb\"><tr><td>epoch</td><td>▁█</td></tr><tr><td>final_test_loss</td><td>█▁</td></tr><tr><td>final_train_loss</td><td>█▁</td></tr></table><br/></div><div class=\"wandb-col\"><h3>Run summary:</h3><br/><table class=\"wandb\"><tr><td>epoch</td><td>1</td></tr><tr><td>final_test_loss</td><td>1.25711</td></tr><tr><td>final_train_loss</td><td>1.26453</td></tr></table><br/></div></div>"
      ],
      "text/plain": [
       "<IPython.core.display.HTML object>"
      ]
     },
     "metadata": {},
     "output_type": "display_data"
    },
    {
     "data": {
      "text/html": [
       " View run <strong style=\"color:#cdcd00\">final-training-with-best-params</strong> at: <a href='https://wandb.ai/joaopaesteves99-opensc/hackernews-score-predictor/runs/mw23xj6q' target=\"_blank\">https://wandb.ai/joaopaesteves99-opensc/hackernews-score-predictor/runs/mw23xj6q</a><br> View project at: <a href='https://wandb.ai/joaopaesteves99-opensc/hackernews-score-predictor' target=\"_blank\">https://wandb.ai/joaopaesteves99-opensc/hackernews-score-predictor</a><br>Synced 5 W&B file(s), 0 media file(s), 0 artifact file(s) and 0 other file(s)"
      ],
      "text/plain": [
       "<IPython.core.display.HTML object>"
      ]
     },
     "metadata": {},
     "output_type": "display_data"
    },
    {
     "data": {
      "text/html": [
       "Find logs at: <code>/tmp/wandb/wandb/run-20250611_190149-mw23xj6q/logs</code>"
      ],
      "text/plain": [
       "<IPython.core.display.HTML object>"
      ]
     },
     "metadata": {},
     "output_type": "display_data"
    },
    {
     "data": {
      "text/html": [
       "Tracking run with wandb version 0.20.1"
      ],
      "text/plain": [
       "<IPython.core.display.HTML object>"
      ]
     },
     "metadata": {},
     "output_type": "display_data"
    },
    {
     "data": {
      "text/html": [
       "Run data is saved locally in <code>/tmp/wandb/wandb/run-20250611_190810-mw23xj6q</code>"
      ],
      "text/plain": [
       "<IPython.core.display.HTML object>"
      ]
     },
     "metadata": {},
     "output_type": "display_data"
    },
    {
     "data": {
      "text/html": [
       "Syncing run <strong><a href='https://wandb.ai/joaopaesteves99-opensc/hackernews-score-predictor/runs/mw23xj6q' target=\"_blank\">final-training-with-best-params</a></strong> to <a href='https://wandb.ai/joaopaesteves99-opensc/hackernews-score-predictor' target=\"_blank\">Weights & Biases</a> (<a href='https://wandb.me/developer-guide' target=\"_blank\">docs</a>)<br>Sweep page: <a href='https://wandb.ai/joaopaesteves99-opensc/hackernews-score-predictor/sweeps/6piipew8' target=\"_blank\">https://wandb.ai/joaopaesteves99-opensc/hackernews-score-predictor/sweeps/6piipew8</a>"
      ],
      "text/plain": [
       "<IPython.core.display.HTML object>"
      ]
     },
     "metadata": {},
     "output_type": "display_data"
    },
    {
     "data": {
      "text/html": [
       " View project at <a href='https://wandb.ai/joaopaesteves99-opensc/hackernews-score-predictor' target=\"_blank\">https://wandb.ai/joaopaesteves99-opensc/hackernews-score-predictor</a>"
      ],
      "text/plain": [
       "<IPython.core.display.HTML object>"
      ]
     },
     "metadata": {},
     "output_type": "display_data"
    },
    {
     "data": {
      "text/html": [
       " View sweep at <a href='https://wandb.ai/joaopaesteves99-opensc/hackernews-score-predictor/sweeps/6piipew8' target=\"_blank\">https://wandb.ai/joaopaesteves99-opensc/hackernews-score-predictor/sweeps/6piipew8</a>"
      ],
      "text/plain": [
       "<IPython.core.display.HTML object>"
      ]
     },
     "metadata": {},
     "output_type": "display_data"
    },
    {
     "data": {
      "text/html": [
       " View run at <a href='https://wandb.ai/joaopaesteves99-opensc/hackernews-score-predictor/runs/mw23xj6q' target=\"_blank\">https://wandb.ai/joaopaesteves99-opensc/hackernews-score-predictor/runs/mw23xj6q</a>"
      ],
      "text/plain": [
       "<IPython.core.display.HTML object>"
      ]
     },
     "metadata": {},
     "output_type": "display_data"
    },
    {
     "name": "stdout",
     "output_type": "stream",
     "text": [
      "Epoch  1/100 | Train Loss: 1.311715 | Test Loss: 1.258186\n",
      "Epoch  2/100 | Train Loss: 1.259301 | Test Loss: 1.261140\n",
      "Epoch  3/100 | Train Loss: 1.257156 | Test Loss: 1.259302\n",
      "Epoch  4/100 | Train Loss: 1.256215 | Test Loss: 1.257768\n",
      "Epoch  5/100 | Train Loss: 1.254679 | Test Loss: 1.255056\n",
      "Epoch  6/100 | Train Loss: 1.253978 | Test Loss: 1.254450\n",
      "Epoch  7/100 | Train Loss: 1.253622 | Test Loss: 1.254725\n",
      "Epoch  8/100 | Train Loss: 1.252464 | Test Loss: 1.254696\n",
      "Epoch  9/100 | Train Loss: 1.252707 | Test Loss: 1.255673\n",
      "Epoch 10/100 | Train Loss: 1.251862 | Test Loss: 1.255875\n",
      "Epoch 11/100 | Train Loss: 1.251866 | Test Loss: 1.255333\n",
      "Epoch 12/100 | Train Loss: 1.250803 | Test Loss: 1.254639\n",
      "Epoch 13/100 | Train Loss: 1.250709 | Test Loss: 1.257421\n",
      "Epoch 14/100 | Train Loss: 1.250989 | Test Loss: 1.256242\n",
      "Epoch 15/100 | Train Loss: 1.250615 | Test Loss: 1.254770\n",
      "Epoch 16/100 | Train Loss: 1.250218 | Test Loss: 1.254007\n",
      "Epoch 17/100 | Train Loss: 1.250100 | Test Loss: 1.255096\n",
      "Epoch 18/100 | Train Loss: 1.249988 | Test Loss: 1.254502\n",
      "Epoch 19/100 | Train Loss: 1.249685 | Test Loss: 1.257034\n",
      "Epoch 20/100 | Train Loss: 1.249586 | Test Loss: 1.253922\n",
      "Epoch 21/100 | Train Loss: 1.249428 | Test Loss: 1.253805\n",
      "Epoch 22/100 | Train Loss: 1.249321 | Test Loss: 1.254057\n",
      "Epoch 23/100 | Train Loss: 1.249077 | Test Loss: 1.254189\n",
      "Epoch 24/100 | Train Loss: 1.248666 | Test Loss: 1.254531\n",
      "Epoch 25/100 | Train Loss: 1.249397 | Test Loss: 1.255863\n",
      "Epoch 26/100 | Train Loss: 1.249323 | Test Loss: 1.254523\n",
      "Epoch 27/100 | Train Loss: 1.248773 | Test Loss: 1.254930\n",
      "Epoch 28/100 | Train Loss: 1.248621 | Test Loss: 1.254972\n",
      "Epoch 29/100 | Train Loss: 1.248617 | Test Loss: 1.253715\n",
      "Epoch 30/100 | Train Loss: 1.248485 | Test Loss: 1.253734\n",
      "Epoch 31/100 | Train Loss: 1.248254 | Test Loss: 1.254081\n",
      "Epoch 32/100 | Train Loss: 1.248495 | Test Loss: 1.253844\n",
      "Epoch 33/100 | Train Loss: 1.248172 | Test Loss: 1.254640\n",
      "Epoch 34/100 | Train Loss: 1.248027 | Test Loss: 1.254113\n",
      "Epoch 35/100 | Train Loss: 1.248028 | Test Loss: 1.254292\n",
      "Epoch 36/100 | Train Loss: 1.248259 | Test Loss: 1.253957\n",
      "Epoch 37/100 | Train Loss: 1.247769 | Test Loss: 1.253489\n",
      "Epoch 38/100 | Train Loss: 1.247665 | Test Loss: 1.253417\n",
      "Epoch 39/100 | Train Loss: 1.247778 | Test Loss: 1.253714\n",
      "Epoch 40/100 | Train Loss: 1.247926 | Test Loss: 1.253962\n",
      "Epoch 41/100 | Train Loss: 1.248387 | Test Loss: 1.253341\n",
      "Epoch 42/100 | Train Loss: 1.247860 | Test Loss: 1.253701\n",
      "Epoch 43/100 | Train Loss: 1.247538 | Test Loss: 1.253683\n",
      "Epoch 44/100 | Train Loss: 1.247424 | Test Loss: 1.253641\n",
      "Epoch 45/100 | Train Loss: 1.247729 | Test Loss: 1.254397\n",
      "Epoch 46/100 | Train Loss: 1.247322 | Test Loss: 1.253725\n",
      "Epoch 47/100 | Train Loss: 1.247397 | Test Loss: 1.253588\n",
      "Epoch 48/100 | Train Loss: 1.247482 | Test Loss: 1.253551\n",
      "Epoch 49/100 | Train Loss: 1.247442 | Test Loss: 1.253502\n",
      "Epoch 50/100 | Train Loss: 1.247056 | Test Loss: 1.253795\n",
      "Epoch 51/100 | Train Loss: 1.247301 | Test Loss: 1.253547\n",
      "Epoch 52/100 | Train Loss: 1.247410 | Test Loss: 1.253613\n",
      "Epoch 53/100 | Train Loss: 1.247521 | Test Loss: 1.253655\n",
      "Epoch 54/100 | Train Loss: 1.247489 | Test Loss: 1.253613\n",
      "Epoch 55/100 | Train Loss: 1.247340 | Test Loss: 1.253446\n",
      "Epoch 56/100 | Train Loss: 1.247206 | Test Loss: 1.253760\n",
      "Epoch 57/100 | Train Loss: 1.247254 | Test Loss: 1.253402\n",
      "Epoch 58/100 | Train Loss: 1.247111 | Test Loss: 1.253492\n",
      "Epoch 59/100 | Train Loss: 1.247064 | Test Loss: 1.254205\n",
      "Epoch 60/100 | Train Loss: 1.247086 | Test Loss: 1.253511\n",
      "Epoch 61/100 | Train Loss: 1.246957 | Test Loss: 1.253529\n",
      "Epoch 62/100 | Train Loss: 1.246971 | Test Loss: 1.253659\n",
      "Epoch 63/100 | Train Loss: 1.246739 | Test Loss: 1.253622\n",
      "Epoch 64/100 | Train Loss: 1.247063 | Test Loss: 1.253893\n",
      "Epoch 65/100 | Train Loss: 1.246999 | Test Loss: 1.253477\n",
      "Epoch 66/100 | Train Loss: 1.247059 | Test Loss: 1.253609\n",
      "Epoch 67/100 | Train Loss: 1.246961 | Test Loss: 1.254329\n",
      "Epoch 68/100 | Train Loss: 1.246910 | Test Loss: 1.254128\n",
      "Epoch 69/100 | Train Loss: 1.247013 | Test Loss: 1.253717\n",
      "Epoch 70/100 | Train Loss: 1.246924 | Test Loss: 1.253883\n",
      "Epoch 71/100 | Train Loss: 1.246919 | Test Loss: 1.253707\n",
      "Epoch 72/100 | Train Loss: 1.246807 | Test Loss: 1.253532\n",
      "Epoch 73/100 | Train Loss: 1.246645 | Test Loss: 1.253947\n",
      "Epoch 74/100 | Train Loss: 1.246852 | Test Loss: 1.254216\n",
      "Epoch 75/100 | Train Loss: 1.246529 | Test Loss: 1.253882\n",
      "Epoch 76/100 | Train Loss: 1.246471 | Test Loss: 1.254101\n",
      "Epoch 77/100 | Train Loss: 1.246665 | Test Loss: 1.253807\n",
      "Epoch 78/100 | Train Loss: 1.246685 | Test Loss: 1.254065\n",
      "Epoch 79/100 | Train Loss: 1.246377 | Test Loss: 1.253542\n",
      "Epoch 80/100 | Train Loss: 1.246697 | Test Loss: 1.253692\n",
      "Epoch 81/100 | Train Loss: 1.246854 | Test Loss: 1.253641\n",
      "Epoch 82/100 | Train Loss: 1.246758 | Test Loss: 1.253596\n",
      "Epoch 83/100 | Train Loss: 1.246509 | Test Loss: 1.253993\n",
      "Epoch 84/100 | Train Loss: 1.246380 | Test Loss: 1.254066\n",
      "Epoch 85/100 | Train Loss: 1.246390 | Test Loss: 1.253631\n",
      "Epoch 86/100 | Train Loss: 1.246562 | Test Loss: 1.254034\n",
      "Epoch 87/100 | Train Loss: 1.246456 | Test Loss: 1.253714\n",
      "Epoch 88/100 | Train Loss: 1.246825 | Test Loss: 1.253516\n",
      "Epoch 89/100 | Train Loss: 1.246507 | Test Loss: 1.253790\n",
      "Epoch 90/100 | Train Loss: 1.246312 | Test Loss: 1.253770\n",
      "Epoch 91/100 | Train Loss: 1.246372 | Test Loss: 1.254228\n",
      "Epoch 92/100 | Train Loss: 1.246505 | Test Loss: 1.253747\n",
      "Epoch 93/100 | Train Loss: 1.246488 | Test Loss: 1.254199\n",
      "Epoch 94/100 | Train Loss: 1.246417 | Test Loss: 1.253621\n",
      "Epoch 95/100 | Train Loss: 1.246332 | Test Loss: 1.253679\n",
      "Epoch 96/100 | Train Loss: 1.246146 | Test Loss: 1.253948\n",
      "Epoch 97/100 | Train Loss: 1.246306 | Test Loss: 1.253836\n",
      "Epoch 98/100 | Train Loss: 1.246427 | Test Loss: 1.253989\n",
      "Epoch 99/100 | Train Loss: 1.246322 | Test Loss: 1.253743\n",
      "Epoch 100/100 | Train Loss: 1.246012 | Test Loss: 1.253728\n",
      "\n",
      "🎉 Final model training complete!\n",
      "\n",
      "FINAL MODEL PERFORMANCE:\n",
      "Test Set R² Score: -0.0334\n",
      "Test Set RMSE: 61.00\n"
     ]
    },
    {
     "data": {
      "image/png": "[encoded data removed]",
      "text/plain": [
       "<Figure size 1000x500 with 1 Axes>"
      ]
     },
     "metadata": {},
     "output_type": "display_data"
    },
    {
     "data": {
      "image/png": "[encoded data removed]",
      "text/plain": [
       "<Figure size 800x800 with 1 Axes>"
      ]
     },
     "metadata": {},
     "output_type": "display_data"
    },
    {
     "data": {
      "text/html": [],
      "text/plain": [
       "<IPython.core.display.HTML object>"
      ]
     },
     "metadata": {},
     "output_type": "display_data"
    },
    {
     "data": {
      "text/html": [
       "<br>    <style><br>        .wandb-row {<br>            display: flex;<br>            flex-direction: row;<br>            flex-wrap: wrap;<br>            justify-content: flex-start;<br>            width: 100%;<br>        }<br>        .wandb-col {<br>            display: flex;<br>            flex-direction: column;<br>            flex-basis: 100%;<br>            flex: 1;<br>            padding: 10px;<br>        }<br>    </style><br><div class=\"wandb-row\"><div class=\"wandb-col\"><h3>Run history:</h3><br/><table class=\"wandb\"><tr><td>epoch</td><td>▁▁▁▁▂▂▂▂▂▃▃▃▃▃▃▃▃▄▄▄▄▅▅▅▅▆▆▆▆▆▇▇▇▇▇▇▇███</td></tr><tr><td>final_r2_score</td><td>▁</td></tr><tr><td>final_rmse</td><td>▁</td></tr><tr><td>final_test_loss</td><td>▆▄▅▇█▆▂▃▄▄▃▂▄▃▂▂▂▄▂▁▁▁▂▁▃▂▄▃▂▂▂▁▂▂▁▃▂▂▂▂</td></tr><tr><td>final_train_loss</td><td>█▂▂▂▁▁▁▁▁▁▁▁▁▁▁▁▁▁▁▁▁▁▁▁▁▁▁▁▁▁▁▁▁▁▁▁▁▁▁▁</td></tr></table><br/></div><div class=\"wandb-col\"><h3>Run summary:</h3><br/><table class=\"wandb\"><tr><td>epoch</td><td>99</td></tr><tr><td>final_r2_score</td><td>-0.03342</td></tr><tr><td>final_rmse</td><td>61.00354</td></tr><tr><td>final_test_loss</td><td>1.25373</td></tr><tr><td>final_train_loss</td><td>1.24601</td></tr></table><br/></div></div>"
      ],
      "text/plain": [
       "<IPython.core.display.HTML object>"
      ]
     },
     "metadata": {},
     "output_type": "display_data"
    },
    {
     "data": {
      "text/html": [
       " View run <strong style=\"color:#cdcd00\">final-training-with-best-params</strong> at: <a href='https://wandb.ai/joaopaesteves99-opensc/hackernews-score-predictor/runs/mw23xj6q' target=\"_blank\">https://wandb.ai/joaopaesteves99-opensc/hackernews-score-predictor/runs/mw23xj6q</a><br> View project at: <a href='https://wandb.ai/joaopaesteves99-opensc/hackernews-score-predictor' target=\"_blank\">https://wandb.ai/joaopaesteves99-opensc/hackernews-score-predictor</a><br>Synced 5 W&B file(s), 2 media file(s), 0 artifact file(s) and 0 other file(s)"
      ],
      "text/plain": [
       "<IPython.core.display.HTML object>"
      ]
     },
     "metadata": {},
     "output_type": "display_data"
    },
    {
     "data": {
      "text/html": [
       "Find logs at: <code>/tmp/wandb/wandb/run-20250611_190810-mw23xj6q/logs</code>"
      ],
      "text/plain": [
       "<IPython.core.display.HTML object>"
      ]
     },
     "metadata": {},
     "output_type": "display_data"
    }
   ],
   "source": [
    "# Final Training with Best Hyperparameters\n",
    "if best_config:\n",
    "    print(\"🚀 Training final model with best parameters...\")\n",
    "    \n",
    "    # Initialize a new wandb run for the final model\n",
    "    final_run = wandb.init(\n",
    "        project=\"hackernews-score-predictor\",\n",
    "        name=\"final-training-with-best-params\",\n",
    "        config=best_config,\n",
    "        tags=[\"final_model\"]\n",
    "    )\n",
    "    \n",
    "    # Dataloader, Model, Optimizer with best_config\n",
    "    train_dataset = TensorDataset(X_train_tensor, y_train_tensor)\n",
    "    train_loader = DataLoader(train_dataset, batch_size=best_config['batch_size'], shuffle=True)\n",
    "    input_dim = X_train_scaled.shape[1]\n",
    "    model = SimplePredictor(\n",
    "        input_dim,\n",
    "        layer_1_size=best_config['layer_1_size'],\n",
    "        layer_2_size=best_config['layer_2_size'],\n",
    "        dropout_rate=best_config['dropout_rate']\n",
    "    ).to(device)\n",
    "\n",
    "    if best_config['optimizer'] == 'adam':\n",
    "        optimizer = optim.Adam(model.parameters(), lr=best_config['learning_rate'], weight_decay=best_config['weight_decay'])\n",
    "    elif best_config['optimizer'] == 'adamw':\n",
    "        optimizer = optim.AdamW(model.parameters(), lr=best_config['learning_rate'], weight_decay=best_config['weight_decay'])\n",
    "    else:\n",
    "        optimizer = optim.SGD(model.parameters(), lr=best_config['learning_rate'], momentum=0.9, weight_decay=best_config['weight_decay'])\n",
    "\n",
    "    criterion = nn.MSELoss()\n",
    "    train_losses = []\n",
    "    test_losses = []\n",
    "\n",
    "    # Longer training for the final model\n",
    "    for epoch in range(best_config['epochs']):\n",
    "        model.train()\n",
    "        epoch_train_loss = 0\n",
    "        for batch_X, batch_y in train_loader:\n",
    "            batch_X, batch_y = batch_X.to(device), batch_y.to(device)\n",
    "            optimizer.zero_grad()\n",
    "            outputs = model(batch_X)\n",
    "            loss = criterion(outputs, batch_y)\n",
    "            loss.backward()\n",
    "            optimizer.step()\n",
    "            epoch_train_loss += loss.item()\n",
    "\n",
    "        # Evaluation\n",
    "        model.eval()\n",
    "        with torch.no_grad():\n",
    "            test_outputs = model(X_test_tensor)\n",
    "            test_loss = criterion(test_outputs, y_test_tensor).item()\n",
    "        \n",
    "        avg_train_loss = epoch_train_loss / len(train_loader)\n",
    "        train_losses.append(avg_train_loss)\n",
    "        test_losses.append(test_loss)\n",
    "        \n",
    "        print(f\"Epoch {epoch+1:2d}/{best_config['epochs']} | Train Loss: {avg_train_loss:.6f} | Test Loss: {test_loss:.6f}\")\n",
    "        wandb.log({\"epoch\": epoch, \"final_train_loss\": avg_train_loss, \"final_test_loss\": test_loss})\n",
    "    \n",
    "    print(\"\\n🎉 Final model training complete!\")\n",
    "    \n",
    "    # Final evaluation on original scale\n",
    "    model.eval()\n",
    "    with torch.no_grad():\n",
    "        y_pred_log = model(X_test_tensor).cpu().numpy().flatten()\n",
    "    \n",
    "    y_pred_orig = np.expm1(y_pred_log)\n",
    "    y_pred_orig[y_pred_orig < 0] = 0\n",
    "\n",
    "    r2 = r2_score(y_test_orig, y_pred_orig)\n",
    "    rmse = np.sqrt(mean_squared_error(y_test_orig, y_pred_orig))\n",
    "\n",
    "    print(f\"\\nFINAL MODEL PERFORMANCE:\")\n",
    "    print(f\"Test Set R² Score: {r2:.4f}\")\n",
    "    print(f\"Test Set RMSE: {rmse:.2f}\")\n",
    "    wandb.log({\"final_r2_score\": r2, \"final_rmse\": rmse})\n",
    "\n",
    "    # Plotting losses\n",
    "    plt.figure(figsize=(10, 5))\n",
    "    plt.plot(train_losses, label='Train Loss')\n",
    "    plt.plot(test_losses, label='Test Loss')\n",
    "    plt.title('Final Model Loss Over Epochs (on log-transformed score)')\n",
    "    plt.xlabel('Epoch')\n",
    "    plt.ylabel('MSE Loss')\n",
    "    plt.legend()\n",
    "    plt.grid(True)\n",
    "    wandb.log({\"final_loss_plot\": wandb.Image(plt)})\n",
    "    plt.show()\n",
    "\n",
    "    # Scatter plot\n",
    "    plt.figure(figsize=(8, 8))\n",
    "    plt.scatter(y_test_orig, y_pred_orig, alpha=0.1)\n",
    "    plt.plot([y_test_orig.min(), y_test_orig.max()], [y_test_orig.min(), y_test_orig.max()], 'r--', lw=2, label='Ideal Fit')\n",
    "    plt.xlabel('Actual Scores (Original Scale)')\n",
    "    plt.ylabel('Predicted Scores (Original Scale)')\n",
    "    plt.title('Final Model: Actual vs. Predicted Scores')\n",
    "    plt.xscale('log')\n",
    "    plt.yscale('log')\n",
    "    plt.legend()\n",
    "    plt.grid(True)\n",
    "    wandb.log({\"final_scatter_plot\": wandb.Image(plt)})\n",
    "    plt.show()\n",
    "    \n",
    "    final_run.finish()\n",
    "else:\n",
    "    print(\"❌ Final training skipped because no configuration was available.\")"
   ]
  },
  {
   "cell_type": "code",
   "execution_count": null,
   "metadata": {},
   "outputs": [],
   "source": []
  }
 ],
 "metadata": {
  "kernelspec": {
   "display_name": "Python 3",
   "language": "python",
   "name": "python3"
  },
  "language_info": {
   "codemirror_mode": {
    "name": "ipython",
    "version": 3
   },
   "file_extension": ".py",
   "mimetype": "text/x-python",
   "name": "python",
   "nbconvert_exporter": "python",
   "pygments_lexer": "ipython3",
   "version": "3.10.17"
  }
 },
 "nbformat": 4,
 "nbformat_minor": 2
}
